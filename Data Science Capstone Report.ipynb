{
    "nbformat_minor": 1, 
    "cells": [
        {
            "source": "# Data Science Capstone Report", 
            "cell_type": "markdown", 
            "metadata": {
                "collapsed": true
            }
        }, 
        {
            "source": "## Introduction/Business Problem", 
            "cell_type": "markdown", 
            "metadata": {}
        }, 
        {
            "source": "#### The idea\nThe idea is to analyse neighborhoods of Austrailia and try to cluster related neighborhoods together. Neighborhoods belonging to the same cluster can be analysed using their most common venues in order to take important decisions such as; Which neighborhood is better to open up a restaurant? Which neighborhoods prefer cafe's and cinemas or even nightclubs?\n\nThis will help any business to decide where they want to set up shop as they will know which neighborhood will prefer their business. It can also help to analyse if any particular type of business is not present in a given neighborhood like a neighborhood has only restaurants and cafes but no night clubs then somebody who owns a chain of nightclubs can set one up there.", 
            "cell_type": "markdown", 
            "metadata": {}
        }, 
        {
            "source": "## Data Section", 
            "cell_type": "markdown", 
            "metadata": {}
        }, 
        {
            "source": "### The data which will be used for the project is from the page https://en.wikipedia.org/wiki/Postcodes_in_Australia\n### It contains two tables;\n    1. A table that contains the state/territories along with their abbreviations\n    2. A table containing the postcodes along with locality and state/territory abbreviations\nBoth tables will be joined using the common column i.e. abbreviations so that it will be easier for the user to understand which state/territory the locality belongs to.", 
            "cell_type": "markdown", 
            "metadata": {}
        }, 
        {
            "source": "### This section will contain the following parts;\n    1. Extracting the tables from the wikipedia page\n    2. Cleaning of extracted data\n    3. Converting the data into dataframes\n    4. Combining dataframes to get a final dataframe\n    5. Using the geocoders package to get the latitude and longitude for each locality\n    6. Adding the coordinates to the dataframe", 
            "cell_type": "markdown", 
            "metadata": {}
        }, 
        {
            "source": "#### First 3 steps will be combined together", 
            "cell_type": "markdown", 
            "metadata": {}
        }, 
        {
            "source": "### 1 2 and 3. Extracting, Cleaning and Converting data from Wikipedia page", 
            "cell_type": "markdown", 
            "metadata": {}
        }, 
        {
            "execution_count": 2, 
            "cell_type": "code", 
            "metadata": {}, 
            "outputs": [], 
            "source": "#getting the wikipedia page\nimport requests\nurl = requests.get('https://en.wikipedia.org/wiki/Postcodes_in_Australia').text\n\n#Using beautiful soup to convert url to xml\nfrom bs4 import BeautifulSoup\nsoup = BeautifulSoup(url,\"lxml\")"
        }, 
        {
            "execution_count": 3, 
            "cell_type": "code", 
            "metadata": {}, 
            "outputs": [], 
            "source": "#exract the table from the wikipedia page\ntable = soup.findAll('table',{'class':'wikitable'})"
        }, 
        {
            "execution_count": 4, 
            "cell_type": "code", 
            "metadata": {}, 
            "outputs": [
                {
                    "output_type": "stream", 
                    "name": "stdout", 
                    "text": "<table class=\"wikitable\">\n<tbody><tr>\n<th>State/Territory</th>\n<th>Abbreviation</th>\n<th>Postcode range\n</th></tr>\n<tr>\n<td><a href=\"/wiki/New_South_Wales\" title=\"New South Wales\">New South Wales</a></td>\n<td>NSW</td>\n<td>1000\u20141999 <i>(LVRs and PO Boxes only)</i><br/>2000\u20142599<br/>2619\u20142899<br/>2921\u20142999\n</td></tr>\n<tr>\n<td><a href=\"/wiki/Australian_Capital_Territory\" title=\"Australian Capital Territory\">Australian Capital Territory</a>\n</td>\n<td>ACT</td>\n<td>0200\u20140299 <i>(LVRs and PO Boxes only)</i><br/>2600\u20142618<br/>2900\u20142920\n</td></tr>\n<tr>\n<td><a href=\"/wiki/Victoria_(Australia)\" title=\"Victoria (Australia)\">Victoria</a>\n</td>\n<td>VIC</td>\n<td>3000\u20143999<br/>8000\u20148999 <i>(LVRs and PO Boxes only)</i>\n</td></tr>\n<tr>\n<td><a href=\"/wiki/Queensland\" title=\"Queensland\">Queensland</a></td>\n<td>QLD</td>\n<td>4000\u20144999<br/>9000\u20149999 <i>(LVRs and PO Boxes only)</i>\n</td></tr>\n<tr>\n<td><a href=\"/wiki/South_Australia\" title=\"South Australia\">South Australia</a></td>\n<td>SA</td>\n<td>5000\u20145799<br/>5800\u20145999 <i>(LVRs and PO Boxes only)</i>\n</td></tr>\n<tr>\n<td><a href=\"/wiki/Western_Australia\" title=\"Western Australia\">Western Australia</a></td>\n<td>WA</td>\n<td>6000\u20146797<br/>6800\u20146999 <i>(LVRs and PO Boxes only)</i>\n</td></tr>\n<tr>\n<td><a href=\"/wiki/Tasmania\" title=\"Tasmania\">Tasmania</a></td>\n<td>TAS</td>\n<td>7000\u20147799<br/>7800\u20147999 <i>(LVRs and PO Boxes only)</i>\n</td></tr>\n<tr>\n<td><a href=\"/wiki/Northern_Territory\" title=\"Northern Territory\">Northern Territory</a></td>\n<td>NT</td>\n<td>0800\u20140899<br/>0900\u20140999 <i>(LVRs and PO Boxes only)</i>\n</td></tr></tbody></table>\n"
                }
            ], 
            "source": "#Table one: contains abbreviations along with their expanded forms\nprint(table[0])"
        }, 
        {
            "execution_count": 5, 
            "cell_type": "code", 
            "metadata": {}, 
            "outputs": [], 
            "source": "#extract the contents of the table one\ntable1 = table[0].find_all('td')"
        }, 
        {
            "execution_count": 6, 
            "cell_type": "code", 
            "metadata": {}, 
            "outputs": [
                {
                    "execution_count": 6, 
                    "metadata": {}, 
                    "data": {
                        "text/html": "<div>\n<style scoped>\n    .dataframe tbody tr th:only-of-type {\n        vertical-align: middle;\n    }\n\n    .dataframe tbody tr th {\n        vertical-align: top;\n    }\n\n    .dataframe thead th {\n        text-align: right;\n    }\n</style>\n<table border=\"1\" class=\"dataframe\">\n  <thead>\n    <tr style=\"text-align: right;\">\n      <th></th>\n      <th>State/Territory</th>\n      <th>Abbreviation</th>\n    </tr>\n  </thead>\n  <tbody>\n  </tbody>\n</table>\n</div>", 
                        "text/plain": "Empty DataFrame\nColumns: [State/Territory, Abbreviation]\nIndex: []"
                    }, 
                    "output_type": "execute_result"
                }
            ], 
            "source": "# creating empty dataframe\nimport pandas as pd\ncolumn_name = ['State/Territory','Abbreviation']\ndf = pd.DataFrame(columns=column_name)\ndf"
        }, 
        {
            "execution_count": 7, 
            "cell_type": "code", 
            "metadata": {}, 
            "outputs": [], 
            "source": "#populating the first dataframe\nimport re\ni = 0\nwhile i < len(table1):\n    st = re.findall(r'<td>(.*?)</td>',str(table1[i]))\n    if len(st) == 0:\n        st = re.findall(r'<td>(.*?\\n)</td>',str(table1[i])) \n    if '<a href'in st[0]:\n        st1 = re.findall(r'>(.*?)</a>',st[0])\n        if len(st1) == 0:\n            st1 = re.findall(r'>(.*?\\n)</a>',st[0])\n        st2 = st1[0]\n    else:\n        st2 = st[0]\n    \n    abb = re.findall(r'<td>(.*?)</td>',str(table1[i+1]))\n    a = abb[0]\n    \n    row = [st2,a]\n    df.loc[len(df)] = row\n    i+=3"
        }, 
        {
            "execution_count": 8, 
            "cell_type": "code", 
            "metadata": {}, 
            "outputs": [
                {
                    "execution_count": 8, 
                    "metadata": {}, 
                    "data": {
                        "text/html": "<div>\n<style scoped>\n    .dataframe tbody tr th:only-of-type {\n        vertical-align: middle;\n    }\n\n    .dataframe tbody tr th {\n        vertical-align: top;\n    }\n\n    .dataframe thead th {\n        text-align: right;\n    }\n</style>\n<table border=\"1\" class=\"dataframe\">\n  <thead>\n    <tr style=\"text-align: right;\">\n      <th></th>\n      <th>State/Territory</th>\n      <th>Abbreviation</th>\n    </tr>\n  </thead>\n  <tbody>\n    <tr>\n      <th>0</th>\n      <td>New South Wales</td>\n      <td>NSW</td>\n    </tr>\n    <tr>\n      <th>1</th>\n      <td>Australian Capital Territory</td>\n      <td>ACT</td>\n    </tr>\n    <tr>\n      <th>2</th>\n      <td>Victoria</td>\n      <td>VIC</td>\n    </tr>\n    <tr>\n      <th>3</th>\n      <td>Queensland</td>\n      <td>QLD</td>\n    </tr>\n    <tr>\n      <th>4</th>\n      <td>South Australia</td>\n      <td>SA</td>\n    </tr>\n    <tr>\n      <th>5</th>\n      <td>Western Australia</td>\n      <td>WA</td>\n    </tr>\n    <tr>\n      <th>6</th>\n      <td>Tasmania</td>\n      <td>TAS</td>\n    </tr>\n    <tr>\n      <th>7</th>\n      <td>Northern Territory</td>\n      <td>NT</td>\n    </tr>\n  </tbody>\n</table>\n</div>", 
                        "text/plain": "                State/Territory Abbreviation\n0               New South Wales          NSW\n1  Australian Capital Territory          ACT\n2                      Victoria          VIC\n3                    Queensland          QLD\n4               South Australia           SA\n5             Western Australia           WA\n6                      Tasmania          TAS\n7            Northern Territory           NT"
                    }, 
                    "output_type": "execute_result"
                }
            ], 
            "source": "#Checking the dataframe\ndf"
        }, 
        {
            "execution_count": 9, 
            "cell_type": "code", 
            "metadata": {}, 
            "outputs": [
                {
                    "output_type": "stream", 
                    "name": "stdout", 
                    "text": "<table class=\"wikitable\">\n<tbody><tr>\n<th>Postcode</th>\n<th>Locality</th>\n<th>State derived from<br/>Postcode ranges</th>\n<th>Actual State<br/>for this locality\n</th></tr>\n<tr>\n<td>4825</td>\n<td>ALPURRURULAM</td>\n<td>QLD</td>\n<td>NT\n</td></tr>\n<tr>\n<td>0872</td>\n<td>ERNABELLA</td>\n<td>NT</td>\n<td>SA\n</td></tr>\n<tr>\n<td>0872</td>\n<td>FREGON</td>\n<td>NT</td>\n<td>SA\n</td></tr>\n<tr>\n<td>0872</td>\n<td>INDULKANA</td>\n<td>NT</td>\n<td>SA\n</td></tr>\n<tr>\n<td>0872</td>\n<td>MIMILI</td>\n<td>NT</td>\n<td>SA\n</td></tr>\n<tr>\n<td>0872</td>\n<td>NGAANYATJARRA-GILES</td>\n<td>NT</td>\n<td>WA\n</td></tr>\n<tr>\n<td>0872</td>\n<td>GIBSON DESERT NORTH</td>\n<td>NT</td>\n<td>WA\n</td></tr>\n<tr>\n<td>0872</td>\n<td>GIBSON DESERT SOUTH</td>\n<td>NT</td>\n<td>WA\n</td></tr>\n<tr>\n<td>2406</td>\n<td>MUNGINDI</td>\n<td>NSW</td>\n<td>QLD\n</td></tr>\n<tr>\n<td>2540</td>\n<td>HMAS CRESWELL</td>\n<td>NSW</td>\n<td><a href=\"/wiki/Jervis_Bay_Territory\" title=\"Jervis Bay Territory\">Jervis Bay Territory</a>\n</td></tr>\n<tr>\n<td>2540</td>\n<td>JERVIS BAY</td>\n<td>NSW</td>\n<td><a href=\"/wiki/Jervis_Bay_Territory\" title=\"Jervis Bay Territory\">Jervis Bay Territory</a>\n</td></tr>\n<tr>\n<td>2611</td>\n<td>COOLEMAN</td>\n<td>ACT</td>\n<td>NSW\n</td></tr>\n<tr>\n<td>2611</td>\n<td>BIMBERI</td>\n<td>ACT</td>\n<td>NSW\n</td></tr>\n<tr>\n<td>2611</td>\n<td>BRINDABELLA</td>\n<td>ACT</td>\n<td>NSW\n</td></tr>\n<tr>\n<td>2611</td>\n<td>URIARRA</td>\n<td>ACT</td>\n<td>NSW\n</td></tr>\n<tr>\n<td>2620</td>\n<td>HUME</td>\n<td>NSW</td>\n<td>ACT\n</td></tr>\n<tr>\n<td>2620</td>\n<td>KOWEN FOREST</td>\n<td>NSW</td>\n<td>ACT\n</td></tr>\n<tr>\n<td>2620</td>\n<td>OAKS ESTATE</td>\n<td>NSW</td>\n<td>ACT\n</td></tr>\n<tr>\n<td>2620</td>\n<td>THARWA</td>\n<td>NSW</td>\n<td>ACT\n</td></tr>\n<tr>\n<td>2620</td>\n<td>TOP NAAS</td>\n<td>NSW</td>\n<td>ACT\n</td></tr>\n<tr>\n<td>3500</td>\n<td>PARINGI</td>\n<td>VIC</td>\n<td>NSW\n</td></tr>\n<tr>\n<td>3585</td>\n<td>MURRAY DOWNS</td>\n<td>VIC</td>\n<td>NSW\n</td></tr>\n<tr>\n<td>3586</td>\n<td>MALLAN</td>\n<td>VIC</td>\n<td>NSW\n</td></tr>\n<tr>\n<td>3644</td>\n<td>BAROOGA</td>\n<td>VIC</td>\n<td>NSW\n</td></tr>\n<tr>\n<td>3644</td>\n<td>LALALTY</td>\n<td>VIC</td>\n<td>NSW\n</td></tr>\n<tr>\n<td>3691</td>\n<td>LAKE HUME VILLAGE</td>\n<td>VIC</td>\n<td>NSW\n</td></tr>\n<tr>\n<td>3707</td>\n<td>BRINGENBRONG</td>\n<td>VIC</td>\n<td>NSW\n</td></tr>\n<tr>\n<td>4380</td>\n<td>MINGOOLA</td>\n<td>QLD</td>\n<td>NSW\n</td></tr>\n<tr>\n<td>4377</td>\n<td>MARYLAND</td>\n<td>QLD</td>\n<td>NSW\n</td></tr></tbody></table>\n"
                }
            ], 
            "source": "#Table two: contains postcode, Locality and abbreviations\nprint(table[1])"
        }, 
        {
            "execution_count": 10, 
            "cell_type": "code", 
            "metadata": {}, 
            "outputs": [], 
            "source": "#extract the contents of the table two\ntable2 = table[1].find_all('td')"
        }, 
        {
            "execution_count": 11, 
            "cell_type": "code", 
            "metadata": {}, 
            "outputs": [
                {
                    "execution_count": 11, 
                    "metadata": {}, 
                    "data": {
                        "text/html": "<div>\n<style scoped>\n    .dataframe tbody tr th:only-of-type {\n        vertical-align: middle;\n    }\n\n    .dataframe tbody tr th {\n        vertical-align: top;\n    }\n\n    .dataframe thead th {\n        text-align: right;\n    }\n</style>\n<table border=\"1\" class=\"dataframe\">\n  <thead>\n    <tr style=\"text-align: right;\">\n      <th></th>\n      <th>PostCode</th>\n      <th>Neighborhood</th>\n      <th>Abbreviation</th>\n    </tr>\n  </thead>\n  <tbody>\n  </tbody>\n</table>\n</div>", 
                        "text/plain": "Empty DataFrame\nColumns: [PostCode, Neighborhood, Abbreviation]\nIndex: []"
                    }, 
                    "output_type": "execute_result"
                }
            ], 
            "source": "# creating empty dataframe\ncolumn_names = ['PostCode','Neighborhood','Abbreviation']\ndf1 = pd.DataFrame(columns=column_names)\ndf1"
        }, 
        {
            "execution_count": 12, 
            "cell_type": "code", 
            "metadata": {}, 
            "outputs": [], 
            "source": "#populating the second dataframe\ni = 0\nwhile i < len(table2):\n    postcode = re.findall(r'<td>(.*?)</td>',str(table2[i]))\n    pc = postcode[0]\n    locality = re.findall(r'<td>(.*?)</td>',str(table2[i+1]))\n    l = locality[0]\n    abbrev = re.findall(r'<td>(.*?)</td>',str(table2[i+2]))\n    abb = abbrev[0]\n    \n    row = [pc,l,abb]\n    df1.loc[len(df1)] = row\n    i+=4"
        }, 
        {
            "execution_count": 13, 
            "cell_type": "code", 
            "metadata": {}, 
            "outputs": [
                {
                    "execution_count": 13, 
                    "metadata": {}, 
                    "data": {
                        "text/html": "<div>\n<style scoped>\n    .dataframe tbody tr th:only-of-type {\n        vertical-align: middle;\n    }\n\n    .dataframe tbody tr th {\n        vertical-align: top;\n    }\n\n    .dataframe thead th {\n        text-align: right;\n    }\n</style>\n<table border=\"1\" class=\"dataframe\">\n  <thead>\n    <tr style=\"text-align: right;\">\n      <th></th>\n      <th>PostCode</th>\n      <th>Neighborhood</th>\n      <th>Abbreviation</th>\n    </tr>\n  </thead>\n  <tbody>\n    <tr>\n      <th>0</th>\n      <td>4825</td>\n      <td>ALPURRURULAM</td>\n      <td>QLD</td>\n    </tr>\n    <tr>\n      <th>1</th>\n      <td>0872</td>\n      <td>ERNABELLA</td>\n      <td>NT</td>\n    </tr>\n    <tr>\n      <th>2</th>\n      <td>0872</td>\n      <td>FREGON</td>\n      <td>NT</td>\n    </tr>\n    <tr>\n      <th>3</th>\n      <td>0872</td>\n      <td>INDULKANA</td>\n      <td>NT</td>\n    </tr>\n    <tr>\n      <th>4</th>\n      <td>0872</td>\n      <td>MIMILI</td>\n      <td>NT</td>\n    </tr>\n    <tr>\n      <th>5</th>\n      <td>0872</td>\n      <td>NGAANYATJARRA-GILES</td>\n      <td>NT</td>\n    </tr>\n    <tr>\n      <th>6</th>\n      <td>0872</td>\n      <td>GIBSON DESERT NORTH</td>\n      <td>NT</td>\n    </tr>\n    <tr>\n      <th>7</th>\n      <td>0872</td>\n      <td>GIBSON DESERT SOUTH</td>\n      <td>NT</td>\n    </tr>\n    <tr>\n      <th>8</th>\n      <td>2406</td>\n      <td>MUNGINDI</td>\n      <td>NSW</td>\n    </tr>\n    <tr>\n      <th>9</th>\n      <td>2540</td>\n      <td>HMAS CRESWELL</td>\n      <td>NSW</td>\n    </tr>\n    <tr>\n      <th>10</th>\n      <td>2540</td>\n      <td>JERVIS BAY</td>\n      <td>NSW</td>\n    </tr>\n    <tr>\n      <th>11</th>\n      <td>2611</td>\n      <td>COOLEMAN</td>\n      <td>ACT</td>\n    </tr>\n    <tr>\n      <th>12</th>\n      <td>2611</td>\n      <td>BIMBERI</td>\n      <td>ACT</td>\n    </tr>\n    <tr>\n      <th>13</th>\n      <td>2611</td>\n      <td>BRINDABELLA</td>\n      <td>ACT</td>\n    </tr>\n    <tr>\n      <th>14</th>\n      <td>2611</td>\n      <td>URIARRA</td>\n      <td>ACT</td>\n    </tr>\n    <tr>\n      <th>15</th>\n      <td>2620</td>\n      <td>HUME</td>\n      <td>NSW</td>\n    </tr>\n    <tr>\n      <th>16</th>\n      <td>2620</td>\n      <td>KOWEN FOREST</td>\n      <td>NSW</td>\n    </tr>\n    <tr>\n      <th>17</th>\n      <td>2620</td>\n      <td>OAKS ESTATE</td>\n      <td>NSW</td>\n    </tr>\n    <tr>\n      <th>18</th>\n      <td>2620</td>\n      <td>THARWA</td>\n      <td>NSW</td>\n    </tr>\n    <tr>\n      <th>19</th>\n      <td>2620</td>\n      <td>TOP NAAS</td>\n      <td>NSW</td>\n    </tr>\n    <tr>\n      <th>20</th>\n      <td>3500</td>\n      <td>PARINGI</td>\n      <td>VIC</td>\n    </tr>\n    <tr>\n      <th>21</th>\n      <td>3585</td>\n      <td>MURRAY DOWNS</td>\n      <td>VIC</td>\n    </tr>\n    <tr>\n      <th>22</th>\n      <td>3586</td>\n      <td>MALLAN</td>\n      <td>VIC</td>\n    </tr>\n    <tr>\n      <th>23</th>\n      <td>3644</td>\n      <td>BAROOGA</td>\n      <td>VIC</td>\n    </tr>\n    <tr>\n      <th>24</th>\n      <td>3644</td>\n      <td>LALALTY</td>\n      <td>VIC</td>\n    </tr>\n    <tr>\n      <th>25</th>\n      <td>3691</td>\n      <td>LAKE HUME VILLAGE</td>\n      <td>VIC</td>\n    </tr>\n    <tr>\n      <th>26</th>\n      <td>3707</td>\n      <td>BRINGENBRONG</td>\n      <td>VIC</td>\n    </tr>\n    <tr>\n      <th>27</th>\n      <td>4380</td>\n      <td>MINGOOLA</td>\n      <td>QLD</td>\n    </tr>\n    <tr>\n      <th>28</th>\n      <td>4377</td>\n      <td>MARYLAND</td>\n      <td>QLD</td>\n    </tr>\n  </tbody>\n</table>\n</div>", 
                        "text/plain": "   PostCode         Neighborhood Abbreviation\n0      4825         ALPURRURULAM          QLD\n1      0872            ERNABELLA           NT\n2      0872               FREGON           NT\n3      0872            INDULKANA           NT\n4      0872               MIMILI           NT\n5      0872  NGAANYATJARRA-GILES           NT\n6      0872  GIBSON DESERT NORTH           NT\n7      0872  GIBSON DESERT SOUTH           NT\n8      2406             MUNGINDI          NSW\n9      2540        HMAS CRESWELL          NSW\n10     2540           JERVIS BAY          NSW\n11     2611             COOLEMAN          ACT\n12     2611              BIMBERI          ACT\n13     2611          BRINDABELLA          ACT\n14     2611              URIARRA          ACT\n15     2620                 HUME          NSW\n16     2620         KOWEN FOREST          NSW\n17     2620          OAKS ESTATE          NSW\n18     2620               THARWA          NSW\n19     2620             TOP NAAS          NSW\n20     3500              PARINGI          VIC\n21     3585         MURRAY DOWNS          VIC\n22     3586               MALLAN          VIC\n23     3644              BAROOGA          VIC\n24     3644              LALALTY          VIC\n25     3691    LAKE HUME VILLAGE          VIC\n26     3707         BRINGENBRONG          VIC\n27     4380             MINGOOLA          QLD\n28     4377             MARYLAND          QLD"
                    }, 
                    "output_type": "execute_result"
                }
            ], 
            "source": "#Checking the dataframe\ndf1"
        }, 
        {
            "source": "#### Note: for the second table we have ignored the fourth column which also contains abbreviations to avoid any confusion and also because the rows containing 'Jervis Bay Territory' will get lost when the dataframes are merged as it is not present in the first dataframe and we do not want to lose any data. \n#### So we have decided to go for the 3rd column only, so that all the rows are present and no data is lost", 
            "cell_type": "markdown", 
            "metadata": {}
        }, 
        {
            "source": "### 4. Combining dataframes into a final dataframe", 
            "cell_type": "markdown", 
            "metadata": {}
        }, 
        {
            "execution_count": 14, 
            "cell_type": "code", 
            "metadata": {}, 
            "outputs": [
                {
                    "execution_count": 14, 
                    "metadata": {}, 
                    "data": {
                        "text/html": "<div>\n<style scoped>\n    .dataframe tbody tr th:only-of-type {\n        vertical-align: middle;\n    }\n\n    .dataframe tbody tr th {\n        vertical-align: top;\n    }\n\n    .dataframe thead th {\n        text-align: right;\n    }\n</style>\n<table border=\"1\" class=\"dataframe\">\n  <thead>\n    <tr style=\"text-align: right;\">\n      <th></th>\n      <th>State/Territory</th>\n      <th>PostCode</th>\n      <th>Neighborhood</th>\n    </tr>\n  </thead>\n  <tbody>\n    <tr>\n      <th>0</th>\n      <td>New South Wales</td>\n      <td>2406</td>\n      <td>MUNGINDI</td>\n    </tr>\n    <tr>\n      <th>1</th>\n      <td>New South Wales</td>\n      <td>2540</td>\n      <td>HMAS CRESWELL</td>\n    </tr>\n    <tr>\n      <th>2</th>\n      <td>New South Wales</td>\n      <td>2540</td>\n      <td>JERVIS BAY</td>\n    </tr>\n    <tr>\n      <th>3</th>\n      <td>New South Wales</td>\n      <td>2620</td>\n      <td>HUME</td>\n    </tr>\n    <tr>\n      <th>4</th>\n      <td>New South Wales</td>\n      <td>2620</td>\n      <td>KOWEN FOREST</td>\n    </tr>\n  </tbody>\n</table>\n</div>", 
                        "text/plain": "   State/Territory PostCode   Neighborhood\n0  New South Wales     2406       MUNGINDI\n1  New South Wales     2540  HMAS CRESWELL\n2  New South Wales     2540     JERVIS BAY\n3  New South Wales     2620           HUME\n4  New South Wales     2620   KOWEN FOREST"
                    }, 
                    "output_type": "execute_result"
                }
            ], 
            "source": "final_df = pd.merge(df,df1,on=\"Abbreviation\")\ndel final_df['Abbreviation']\nfinal_df.head()"
        }, 
        {
            "execution_count": 15, 
            "cell_type": "code", 
            "metadata": {}, 
            "outputs": [
                {
                    "execution_count": 15, 
                    "metadata": {}, 
                    "data": {
                        "text/html": "<div>\n<style scoped>\n    .dataframe tbody tr th:only-of-type {\n        vertical-align: middle;\n    }\n\n    .dataframe tbody tr th {\n        vertical-align: top;\n    }\n\n    .dataframe thead th {\n        text-align: right;\n    }\n</style>\n<table border=\"1\" class=\"dataframe\">\n  <thead>\n    <tr style=\"text-align: right;\">\n      <th></th>\n      <th>PostCode</th>\n      <th>State/Territory</th>\n      <th>Neighborhood</th>\n    </tr>\n  </thead>\n  <tbody>\n    <tr>\n      <th>0</th>\n      <td>0872</td>\n      <td>Northern Territory</td>\n      <td>ERNABELLA, FREGON, INDULKANA, MIMILI, NGAANYAT...</td>\n    </tr>\n    <tr>\n      <th>1</th>\n      <td>2406</td>\n      <td>New South Wales</td>\n      <td>MUNGINDI</td>\n    </tr>\n    <tr>\n      <th>2</th>\n      <td>2540</td>\n      <td>New South Wales</td>\n      <td>HMAS CRESWELL, JERVIS BAY</td>\n    </tr>\n    <tr>\n      <th>3</th>\n      <td>2611</td>\n      <td>Australian Capital Territory</td>\n      <td>COOLEMAN, BIMBERI, BRINDABELLA, URIARRA</td>\n    </tr>\n    <tr>\n      <th>4</th>\n      <td>2620</td>\n      <td>New South Wales</td>\n      <td>HUME, KOWEN FOREST, OAKS ESTATE, THARWA, TOP NAAS</td>\n    </tr>\n    <tr>\n      <th>5</th>\n      <td>3500</td>\n      <td>Victoria</td>\n      <td>PARINGI</td>\n    </tr>\n    <tr>\n      <th>6</th>\n      <td>3585</td>\n      <td>Victoria</td>\n      <td>MURRAY DOWNS</td>\n    </tr>\n    <tr>\n      <th>7</th>\n      <td>3586</td>\n      <td>Victoria</td>\n      <td>MALLAN</td>\n    </tr>\n    <tr>\n      <th>8</th>\n      <td>3644</td>\n      <td>Victoria</td>\n      <td>BAROOGA, LALALTY</td>\n    </tr>\n    <tr>\n      <th>9</th>\n      <td>3691</td>\n      <td>Victoria</td>\n      <td>LAKE HUME VILLAGE</td>\n    </tr>\n    <tr>\n      <th>10</th>\n      <td>3707</td>\n      <td>Victoria</td>\n      <td>BRINGENBRONG</td>\n    </tr>\n    <tr>\n      <th>11</th>\n      <td>4377</td>\n      <td>Queensland</td>\n      <td>MARYLAND</td>\n    </tr>\n    <tr>\n      <th>12</th>\n      <td>4380</td>\n      <td>Queensland</td>\n      <td>MINGOOLA</td>\n    </tr>\n    <tr>\n      <th>13</th>\n      <td>4825</td>\n      <td>Queensland</td>\n      <td>ALPURRURULAM</td>\n    </tr>\n  </tbody>\n</table>\n</div>", 
                        "text/plain": "   PostCode               State/Territory  \\\n0      0872            Northern Territory   \n1      2406               New South Wales   \n2      2540               New South Wales   \n3      2611  Australian Capital Territory   \n4      2620               New South Wales   \n5      3500                      Victoria   \n6      3585                      Victoria   \n7      3586                      Victoria   \n8      3644                      Victoria   \n9      3691                      Victoria   \n10     3707                      Victoria   \n11     4377                    Queensland   \n12     4380                    Queensland   \n13     4825                    Queensland   \n\n                                         Neighborhood  \n0   ERNABELLA, FREGON, INDULKANA, MIMILI, NGAANYAT...  \n1                                            MUNGINDI  \n2                           HMAS CRESWELL, JERVIS BAY  \n3             COOLEMAN, BIMBERI, BRINDABELLA, URIARRA  \n4   HUME, KOWEN FOREST, OAKS ESTATE, THARWA, TOP NAAS  \n5                                             PARINGI  \n6                                        MURRAY DOWNS  \n7                                              MALLAN  \n8                                    BAROOGA, LALALTY  \n9                                   LAKE HUME VILLAGE  \n10                                       BRINGENBRONG  \n11                                           MARYLAND  \n12                                           MINGOOLA  \n13                                       ALPURRURULAM  "
                    }, 
                    "output_type": "execute_result"
                }
            ], 
            "source": "# Grouping the Neighborhoods according to Postal Code\nfinal_df = final_df.groupby(['PostCode','State/Territory'])['Neighborhood'].apply(', '.join).reset_index()\nfinal_df"
        }, 
        {
            "source": "### Part 5 Using geocoders package to get latitude and longtitude of each postcode", 
            "cell_type": "markdown", 
            "metadata": {}
        }, 
        {
            "execution_count": 16, 
            "cell_type": "code", 
            "metadata": {}, 
            "outputs": [
                {
                    "output_type": "stream", 
                    "name": "stdout", 
                    "text": "Solving environment: done\n\n## Package Plan ##\n\n  environment location: /opt/ibm/conda/miniconda3\n\n  added / updated specs: \n    - geopy\n\n\nThe following packages will be downloaded:\n\n    package                    |            build\n    ---------------------------|-----------------\n    ca-certificates-2018.8.24  |       ha4d7672_0         136 KB  conda-forge\n    geopy-1.17.0               |             py_0          49 KB  conda-forge\n    certifi-2018.8.24          |        py35_1001         139 KB  conda-forge\n    openssl-1.0.2p             |       h470a237_1         3.1 MB  conda-forge\n    geographiclib-1.49         |             py_0          32 KB  conda-forge\n    conda-4.5.11               |           py35_0         636 KB  conda-forge\n    ------------------------------------------------------------\n                                           Total:         4.1 MB\n\nThe following NEW packages will be INSTALLED:\n\n    geographiclib:   1.49-py_0             conda-forge\n    geopy:           1.17.0-py_0           conda-forge\n\nThe following packages will be UPDATED:\n\n    ca-certificates: 2017.08.26-h1d4fec5_0             --> 2018.8.24-ha4d7672_0 conda-forge\n    certifi:         2018.1.18-py35_0                  --> 2018.8.24-py35_1001  conda-forge\n    conda:           4.5.11-py35_0                     --> 4.5.11-py35_0        conda-forge\n    openssl:         1.0.2o-h20670df_0                 --> 1.0.2p-h470a237_1    conda-forge\n\n\nDownloading and Extracting Packages\nca-certificates-2018 | 136 KB    | ##################################### | 100% \ngeopy-1.17.0         | 49 KB     | ##################################### | 100% \ncertifi-2018.8.24    | 139 KB    | ##################################### | 100% \nopenssl-1.0.2p       | 3.1 MB    | ##################################### | 100% \ngeographiclib-1.49   | 32 KB     | ##################################### | 100% \nconda-4.5.11         | 636 KB    | ##################################### | 100% \nPreparing transaction: done\nVerifying transaction: done\nExecuting transaction: done\n"
                }
            ], 
            "source": "#Importing necessary packages\n!conda install -c conda-forge geopy --yes # uncomment this line if you haven't completed the Foursquare API lab\nimport geopy.geocoders "
        }, 
        {
            "execution_count": 17, 
            "cell_type": "code", 
            "metadata": {}, 
            "outputs": [
                {
                    "output_type": "stream", 
                    "name": "stderr", 
                    "text": "/opt/ibm/conda/miniconda3/lib/python3.5/site-packages/geopy/geocoders/osm.py:143: UserWarning: Using Nominatim with the default \"geopy/1.17.0\" `user_agent` is strongly discouraged, as it violates Nominatim's ToS https://operations.osmfoundation.org/policies/nominatim/ and may possibly cause 403 and 429 HTTP errors. Please specify a custom `user_agent` with `Nominatim(user_agent=\"my-application\")` or by overriding the default `user_agent`: `geopy.geocoders.options.default_user_agent = \"my-application\"`. In geopy 2.0 this will become an exception.\n  UserWarning\n"
                }
            ], 
            "source": "#Calculating latitude and longitude of each row\nfrom geopy.geocoders import Nominatim\ngeolocator = Nominatim()\nplace = 'Australia'\nlatitude = []\nlongitude = []\nfor index, rows in final_df.iterrows():\n    pc = str(rows['PostCode'])\n    addr = pc+','+place\n    location = geolocator.geocode(addr)\n    lat = location.latitude\n    long = location.longitude\n    latitude.append(lat)\n    longitude.append(long)"
        }, 
        {
            "source": "### 6. Adding coordinates to the dataframe", 
            "cell_type": "markdown", 
            "metadata": {}
        }, 
        {
            "execution_count": 18, 
            "cell_type": "code", 
            "metadata": {}, 
            "outputs": [], 
            "source": "#assigning the latitude and longitude to the dataframe\nfinal_df['Latitude'] = latitude\nfinal_df['Longitude'] = longitude"
        }, 
        {
            "execution_count": 19, 
            "cell_type": "code", 
            "metadata": {}, 
            "outputs": [
                {
                    "execution_count": 19, 
                    "metadata": {}, 
                    "data": {
                        "text/html": "<div>\n<style scoped>\n    .dataframe tbody tr th:only-of-type {\n        vertical-align: middle;\n    }\n\n    .dataframe tbody tr th {\n        vertical-align: top;\n    }\n\n    .dataframe thead th {\n        text-align: right;\n    }\n</style>\n<table border=\"1\" class=\"dataframe\">\n  <thead>\n    <tr style=\"text-align: right;\">\n      <th></th>\n      <th>PostCode</th>\n      <th>State/Territory</th>\n      <th>Neighborhood</th>\n      <th>Latitude</th>\n      <th>Longitude</th>\n    </tr>\n  </thead>\n  <tbody>\n    <tr>\n      <th>0</th>\n      <td>0872</td>\n      <td>Northern Territory</td>\n      <td>ERNABELLA, FREGON, INDULKANA, MIMILI, NGAANYAT...</td>\n      <td>-25.719898</td>\n      <td>131.957835</td>\n    </tr>\n    <tr>\n      <th>1</th>\n      <td>2406</td>\n      <td>New South Wales</td>\n      <td>MUNGINDI</td>\n      <td>-29.030752</td>\n      <td>149.188191</td>\n    </tr>\n    <tr>\n      <th>2</th>\n      <td>2540</td>\n      <td>New South Wales</td>\n      <td>HMAS CRESWELL, JERVIS BAY</td>\n      <td>-34.983059</td>\n      <td>150.603134</td>\n    </tr>\n    <tr>\n      <th>3</th>\n      <td>2611</td>\n      <td>Australian Capital Territory</td>\n      <td>COOLEMAN, BIMBERI, BRINDABELLA, URIARRA</td>\n      <td>-35.316175</td>\n      <td>149.010503</td>\n    </tr>\n    <tr>\n      <th>4</th>\n      <td>2620</td>\n      <td>New South Wales</td>\n      <td>HUME, KOWEN FOREST, OAKS ESTATE, THARWA, TOP NAAS</td>\n      <td>-35.277574</td>\n      <td>149.236242</td>\n    </tr>\n    <tr>\n      <th>5</th>\n      <td>3500</td>\n      <td>Victoria</td>\n      <td>PARINGI</td>\n      <td>-34.196090</td>\n      <td>142.142540</td>\n    </tr>\n    <tr>\n      <th>6</th>\n      <td>3585</td>\n      <td>Victoria</td>\n      <td>MURRAY DOWNS</td>\n      <td>-35.342298</td>\n      <td>143.558281</td>\n    </tr>\n    <tr>\n      <th>7</th>\n      <td>3586</td>\n      <td>Victoria</td>\n      <td>MALLAN</td>\n      <td>-35.402222</td>\n      <td>143.654334</td>\n    </tr>\n    <tr>\n      <th>8</th>\n      <td>3644</td>\n      <td>Victoria</td>\n      <td>BAROOGA, LALALTY</td>\n      <td>-35.911559</td>\n      <td>145.671953</td>\n    </tr>\n    <tr>\n      <th>9</th>\n      <td>3691</td>\n      <td>Victoria</td>\n      <td>LAKE HUME VILLAGE</td>\n      <td>-36.162044</td>\n      <td>146.961706</td>\n    </tr>\n    <tr>\n      <th>10</th>\n      <td>3707</td>\n      <td>Victoria</td>\n      <td>BRINGENBRONG</td>\n      <td>-36.176704</td>\n      <td>147.947410</td>\n    </tr>\n    <tr>\n      <th>11</th>\n      <td>4377</td>\n      <td>Queensland</td>\n      <td>MARYLAND</td>\n      <td>-28.561347</td>\n      <td>151.988089</td>\n    </tr>\n    <tr>\n      <th>12</th>\n      <td>4380</td>\n      <td>Queensland</td>\n      <td>MINGOOLA</td>\n      <td>-28.703805</td>\n      <td>151.911134</td>\n    </tr>\n    <tr>\n      <th>13</th>\n      <td>4825</td>\n      <td>Queensland</td>\n      <td>ALPURRURULAM</td>\n      <td>-20.723552</td>\n      <td>139.384069</td>\n    </tr>\n  </tbody>\n</table>\n</div>", 
                        "text/plain": "   PostCode               State/Territory  \\\n0      0872            Northern Territory   \n1      2406               New South Wales   \n2      2540               New South Wales   \n3      2611  Australian Capital Territory   \n4      2620               New South Wales   \n5      3500                      Victoria   \n6      3585                      Victoria   \n7      3586                      Victoria   \n8      3644                      Victoria   \n9      3691                      Victoria   \n10     3707                      Victoria   \n11     4377                    Queensland   \n12     4380                    Queensland   \n13     4825                    Queensland   \n\n                                         Neighborhood   Latitude   Longitude  \n0   ERNABELLA, FREGON, INDULKANA, MIMILI, NGAANYAT... -25.719898  131.957835  \n1                                            MUNGINDI -29.030752  149.188191  \n2                           HMAS CRESWELL, JERVIS BAY -34.983059  150.603134  \n3             COOLEMAN, BIMBERI, BRINDABELLA, URIARRA -35.316175  149.010503  \n4   HUME, KOWEN FOREST, OAKS ESTATE, THARWA, TOP NAAS -35.277574  149.236242  \n5                                             PARINGI -34.196090  142.142540  \n6                                        MURRAY DOWNS -35.342298  143.558281  \n7                                              MALLAN -35.402222  143.654334  \n8                                    BAROOGA, LALALTY -35.911559  145.671953  \n9                                   LAKE HUME VILLAGE -36.162044  146.961706  \n10                                       BRINGENBRONG -36.176704  147.947410  \n11                                           MARYLAND -28.561347  151.988089  \n12                                           MINGOOLA -28.703805  151.911134  \n13                                       ALPURRURULAM -20.723552  139.384069  "
                    }, 
                    "output_type": "execute_result"
                }
            ], 
            "source": "#Final dataframe\nfinal_df"
        }, 
        {
            "source": "#### This will be the final dataset that we will use to analyse the neighborhoods", 
            "cell_type": "markdown", 
            "metadata": {}
        }, 
        {
            "source": "## Methodology Section", 
            "cell_type": "markdown", 
            "metadata": {}
        }, 
        {
            "source": "#### In this section, we will analyse our dataset and perform clustering analysis in order to answer questions proposed in the business section.", 
            "cell_type": "markdown", 
            "metadata": {}
        }, 
        {
            "execution_count": 20, 
            "cell_type": "code", 
            "metadata": {}, 
            "outputs": [
                {
                    "execution_count": 20, 
                    "metadata": {}, 
                    "data": {
                        "text/html": "<div>\n<style scoped>\n    .dataframe tbody tr th:only-of-type {\n        vertical-align: middle;\n    }\n\n    .dataframe tbody tr th {\n        vertical-align: top;\n    }\n\n    .dataframe thead th {\n        text-align: right;\n    }\n</style>\n<table border=\"1\" class=\"dataframe\">\n  <thead>\n    <tr style=\"text-align: right;\">\n      <th></th>\n      <th>PostCode</th>\n      <th>State/Territory</th>\n      <th>Neighborhood</th>\n      <th>Latitude</th>\n      <th>Longitude</th>\n    </tr>\n  </thead>\n  <tbody>\n    <tr>\n      <th>0</th>\n      <td>0872</td>\n      <td>Northern Territory</td>\n      <td>ERNABELLA, FREGON, INDULKANA, MIMILI, NGAANYAT...</td>\n      <td>-25.719898</td>\n      <td>131.957835</td>\n    </tr>\n    <tr>\n      <th>1</th>\n      <td>2406</td>\n      <td>New South Wales</td>\n      <td>MUNGINDI</td>\n      <td>-29.030752</td>\n      <td>149.188191</td>\n    </tr>\n    <tr>\n      <th>2</th>\n      <td>2540</td>\n      <td>New South Wales</td>\n      <td>HMAS CRESWELL, JERVIS BAY</td>\n      <td>-34.983059</td>\n      <td>150.603134</td>\n    </tr>\n    <tr>\n      <th>3</th>\n      <td>2611</td>\n      <td>Australian Capital Territory</td>\n      <td>COOLEMAN, BIMBERI, BRINDABELLA, URIARRA</td>\n      <td>-35.316175</td>\n      <td>149.010503</td>\n    </tr>\n    <tr>\n      <th>4</th>\n      <td>2620</td>\n      <td>New South Wales</td>\n      <td>HUME, KOWEN FOREST, OAKS ESTATE, THARWA, TOP NAAS</td>\n      <td>-35.277574</td>\n      <td>149.236242</td>\n    </tr>\n    <tr>\n      <th>5</th>\n      <td>3500</td>\n      <td>Victoria</td>\n      <td>PARINGI</td>\n      <td>-34.196090</td>\n      <td>142.142540</td>\n    </tr>\n    <tr>\n      <th>6</th>\n      <td>3585</td>\n      <td>Victoria</td>\n      <td>MURRAY DOWNS</td>\n      <td>-35.342298</td>\n      <td>143.558281</td>\n    </tr>\n    <tr>\n      <th>7</th>\n      <td>3586</td>\n      <td>Victoria</td>\n      <td>MALLAN</td>\n      <td>-35.402222</td>\n      <td>143.654334</td>\n    </tr>\n    <tr>\n      <th>8</th>\n      <td>3644</td>\n      <td>Victoria</td>\n      <td>BAROOGA, LALALTY</td>\n      <td>-35.911559</td>\n      <td>145.671953</td>\n    </tr>\n    <tr>\n      <th>9</th>\n      <td>3691</td>\n      <td>Victoria</td>\n      <td>LAKE HUME VILLAGE</td>\n      <td>-36.162044</td>\n      <td>146.961706</td>\n    </tr>\n    <tr>\n      <th>10</th>\n      <td>3707</td>\n      <td>Victoria</td>\n      <td>BRINGENBRONG</td>\n      <td>-36.176704</td>\n      <td>147.947410</td>\n    </tr>\n    <tr>\n      <th>11</th>\n      <td>4377</td>\n      <td>Queensland</td>\n      <td>MARYLAND</td>\n      <td>-28.561347</td>\n      <td>151.988089</td>\n    </tr>\n    <tr>\n      <th>12</th>\n      <td>4380</td>\n      <td>Queensland</td>\n      <td>MINGOOLA</td>\n      <td>-28.703805</td>\n      <td>151.911134</td>\n    </tr>\n    <tr>\n      <th>13</th>\n      <td>4825</td>\n      <td>Queensland</td>\n      <td>ALPURRURULAM</td>\n      <td>-20.723552</td>\n      <td>139.384069</td>\n    </tr>\n  </tbody>\n</table>\n</div>", 
                        "text/plain": "   PostCode               State/Territory  \\\n0      0872            Northern Territory   \n1      2406               New South Wales   \n2      2540               New South Wales   \n3      2611  Australian Capital Territory   \n4      2620               New South Wales   \n5      3500                      Victoria   \n6      3585                      Victoria   \n7      3586                      Victoria   \n8      3644                      Victoria   \n9      3691                      Victoria   \n10     3707                      Victoria   \n11     4377                    Queensland   \n12     4380                    Queensland   \n13     4825                    Queensland   \n\n                                         Neighborhood   Latitude   Longitude  \n0   ERNABELLA, FREGON, INDULKANA, MIMILI, NGAANYAT... -25.719898  131.957835  \n1                                            MUNGINDI -29.030752  149.188191  \n2                           HMAS CRESWELL, JERVIS BAY -34.983059  150.603134  \n3             COOLEMAN, BIMBERI, BRINDABELLA, URIARRA -35.316175  149.010503  \n4   HUME, KOWEN FOREST, OAKS ESTATE, THARWA, TOP NAAS -35.277574  149.236242  \n5                                             PARINGI -34.196090  142.142540  \n6                                        MURRAY DOWNS -35.342298  143.558281  \n7                                              MALLAN -35.402222  143.654334  \n8                                    BAROOGA, LALALTY -35.911559  145.671953  \n9                                   LAKE HUME VILLAGE -36.162044  146.961706  \n10                                       BRINGENBRONG -36.176704  147.947410  \n11                                           MARYLAND -28.561347  151.988089  \n12                                           MINGOOLA -28.703805  151.911134  \n13                                       ALPURRURULAM -20.723552  139.384069  "
                    }, 
                    "output_type": "execute_result"
                }
            ], 
            "source": "#Getting the dataset used in Data section\naus_data = final_df\naus_data"
        }, 
        {
            "execution_count": 21, 
            "cell_type": "code", 
            "metadata": {}, 
            "outputs": [
                {
                    "execution_count": 21, 
                    "metadata": {}, 
                    "data": {
                        "text/plain": "array(['Northern Territory', 'New South Wales',\n       'Australian Capital Territory', 'Victoria', 'Queensland'], dtype=object)"
                    }, 
                    "output_type": "execute_result"
                }
            ], 
            "source": "aus_data['State/Territory'].unique()"
        }, 
        {
            "execution_count": 22, 
            "cell_type": "code", 
            "metadata": {}, 
            "outputs": [
                {
                    "output_type": "stream", 
                    "name": "stderr", 
                    "text": "/opt/ibm/conda/miniconda3/lib/python3.5/site-packages/geopy/geocoders/osm.py:143: UserWarning: Using Nominatim with the default \"geopy/1.17.0\" `user_agent` is strongly discouraged, as it violates Nominatim's ToS https://operations.osmfoundation.org/policies/nominatim/ and may possibly cause 403 and 429 HTTP errors. Please specify a custom `user_agent` with `Nominatim(user_agent=\"my-application\")` or by overriding the default `user_agent`: `geopy.geocoders.options.default_user_agent = \"my-application\"`. In geopy 2.0 this will become an exception.\n  UserWarning\n"
                }, 
                {
                    "output_type": "stream", 
                    "name": "stdout", 
                    "text": "The geograpical coordinate of Australia are -24.7761086, 134.755.\n"
                }
            ], 
            "source": "#Getting the coordinates of Australia\naddress = 'Australia'\nfrom geopy.geocoders import Nominatim\ngeolocator = Nominatim()\nlocation = geolocator.geocode(address)\nlatitude = location.latitude\nlongitude = location.longitude\nprint('The geograpical coordinate of Australia are {}, {}.'.format(latitude, longitude))"
        }, 
        {
            "execution_count": 23, 
            "cell_type": "code", 
            "metadata": {}, 
            "outputs": [
                {
                    "output_type": "stream", 
                    "name": "stdout", 
                    "text": "Solving environment: done\n\n## Package Plan ##\n\n  environment location: /opt/ibm/conda/miniconda3\n\n  added / updated specs: \n    - folium=0.5.0\n\n\nThe following packages will be downloaded:\n\n    package                    |            build\n    ---------------------------|-----------------\n    branca-0.3.0               |             py_0          24 KB  conda-forge\n    altair-2.2.2               |           py35_1         462 KB  conda-forge\n    folium-0.5.0               |             py_0          45 KB  conda-forge\n    vincent-0.4.4              |             py_1          28 KB  conda-forge\n    ------------------------------------------------------------\n                                           Total:         559 KB\n\nThe following NEW packages will be INSTALLED:\n\n    altair:  2.2.2-py35_1 conda-forge\n    branca:  0.3.0-py_0   conda-forge\n    folium:  0.5.0-py_0   conda-forge\n    vincent: 0.4.4-py_1   conda-forge\n\n\nDownloading and Extracting Packages\nbranca-0.3.0         | 24 KB     | ##################################### | 100% \naltair-2.2.2         | 462 KB    | ##################################### | 100% \nfolium-0.5.0         | 45 KB     | ##################################### | 100% \nvincent-0.4.4        | 28 KB     | ##################################### | 100% \nPreparing transaction: done\nVerifying transaction: done\nExecuting transaction: done\n"
                }
            ], 
            "source": "#Getting folium package\n!conda install -c conda-forge folium=0.5.0 --yes # uncomment this line if you haven't completed the Foursquare API lab\nimport folium"
        }, 
        {
            "execution_count": 25, 
            "cell_type": "code", 
            "metadata": {}, 
            "outputs": [
                {
                    "execution_count": 25, 
                    "metadata": {}, 
                    "data": {
                        "text/html": "<div style=\"width:100%;\"><div style=\"position:relative;width:100%;height:0;padding-bottom:60%;\"><iframe src=\"data:text/html;charset=utf-8;base64,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\" style=\"position:absolute;width:100%;height:100%;left:0;top:0;border:none !important;\" allowfullscreen webkitallowfullscreen mozallowfullscreen></iframe></div></div>", 
                        "text/plain": "<folium.folium.Map at 0x7fd164e077f0>"
                    }, 
                    "output_type": "execute_result"
                }
            ], 
            "source": "# create map of New York using latitude and longitude values\nmap_aus = folium.Map(location=[latitude, longitude], zoom_start=4)\n\n# add markers to map\nfor lat, lng, borough, neighborhood in zip(aus_data['Latitude'], aus_data['Longitude'], aus_data['State/Territory'], aus_data['Neighborhood']):\n    label = '{}, {}'.format(neighborhood, borough)\n    label = folium.Popup(label, parse_html=True)\n    folium.CircleMarker(\n        [lat, lng],\n        radius=5,\n        popup=label,\n        color='blue',\n        fill=True,\n        fill_color='#3186cc',\n        fill_opacity=0.7,\n        parse_html=False).add_to(map_aus)  \n    \nmap_aus"
        }, 
        {
            "execution_count": 26, 
            "cell_type": "code", 
            "metadata": {}, 
            "outputs": [], 
            "source": "# The code was removed by Watson Studio for sharing."
        }, 
        {
            "execution_count": 27, 
            "cell_type": "code", 
            "metadata": {}, 
            "outputs": [], 
            "source": "def get_category_type(row):\n    try:\n        categories_list = row['categories']\n    except:\n        categories_list = row['venue.categories']\n        \n    if len(categories_list) == 0:\n        return None\n    else:\n        return categories_list[0]['name']"
        }, 
        {
            "execution_count": 28, 
            "cell_type": "code", 
            "metadata": {}, 
            "outputs": [], 
            "source": "def getNearbyVenues(names, latitudes, longitudes, radius=500):\n    \n    venues_list=[]\n    for name, lat, lng in zip(names, latitudes, longitudes):\n        print(name)\n            \n        # create the API request URL\n        url = 'https://api.foursquare.com/v2/venues/explore?&client_id={}&client_secret={}&v={}&ll={},{}&radius={}&limit={}'.format(\n            CLIENT_ID, \n            CLIENT_SECRET, \n            VERSION, \n            lat, \n            lng, \n            radius, \n            LIMIT)\n            \n        # make the GET request\n        results = requests.get(url).json()[\"response\"]['groups'][0]['items']\n        \n        # return only relevant information for each nearby venue\n        venues_list.append([(\n            name, \n            lat, \n            lng, \n            v['venue']['name'], \n            v['venue']['location']['lat'], \n            v['venue']['location']['lng'],  \n            v['venue']['categories'][0]['name']) for v in results])\n\n    nearby_venues = pd.DataFrame([item for venue_list in venues_list for item in venue_list])\n    nearby_venues.columns = ['Neighborhood', \n                  'Neighborhood Latitude', \n                  'Neighborhood Longitude', \n                  'Venue', \n                  'Venue Latitude', \n                  'Venue Longitude', \n                  'Venue Category']\n    \n    return(nearby_venues)"
        }, 
        {
            "execution_count": 29, 
            "cell_type": "code", 
            "metadata": {}, 
            "outputs": [
                {
                    "output_type": "stream", 
                    "name": "stdout", 
                    "text": "ERNABELLA, FREGON, INDULKANA, MIMILI, NGAANYATJARRA-GILES, GIBSON DESERT NORTH, GIBSON DESERT SOUTH\nMUNGINDI\nHMAS CRESWELL, JERVIS BAY\nCOOLEMAN, BIMBERI, BRINDABELLA, URIARRA\nHUME, KOWEN FOREST, OAKS ESTATE, THARWA, TOP NAAS\nPARINGI\nMURRAY DOWNS\nMALLAN\nBAROOGA, LALALTY\nLAKE HUME VILLAGE\nBRINGENBRONG\nMARYLAND\nMINGOOLA\nALPURRURULAM\n"
                }
            ], 
            "source": "import requests\n# type your answer here\nLIMIT = 100 # limit of number of venues returned by Foursquare API\nradius = 500\naus_venues = getNearbyVenues(names=aus_data['Neighborhood'],\n                                   latitudes=aus_data['Latitude'],\n                                   longitudes=aus_data['Longitude']\n                                  )"
        }, 
        {
            "execution_count": 30, 
            "cell_type": "code", 
            "metadata": {}, 
            "outputs": [
                {
                    "output_type": "stream", 
                    "name": "stdout", 
                    "text": "(13, 7)\n"
                }, 
                {
                    "execution_count": 30, 
                    "metadata": {}, 
                    "data": {
                        "text/html": "<div>\n<style scoped>\n    .dataframe tbody tr th:only-of-type {\n        vertical-align: middle;\n    }\n\n    .dataframe tbody tr th {\n        vertical-align: top;\n    }\n\n    .dataframe thead th {\n        text-align: right;\n    }\n</style>\n<table border=\"1\" class=\"dataframe\">\n  <thead>\n    <tr style=\"text-align: right;\">\n      <th></th>\n      <th>Neighborhood</th>\n      <th>Neighborhood Latitude</th>\n      <th>Neighborhood Longitude</th>\n      <th>Venue</th>\n      <th>Venue Latitude</th>\n      <th>Venue Longitude</th>\n      <th>Venue Category</th>\n    </tr>\n  </thead>\n  <tbody>\n    <tr>\n      <th>0</th>\n      <td>COOLEMAN, BIMBERI, BRINDABELLA, URIARRA</td>\n      <td>-35.316175</td>\n      <td>149.010503</td>\n      <td>Mt Stromlo Observatory</td>\n      <td>-35.318720</td>\n      <td>149.009041</td>\n      <td>Planetarium</td>\n    </tr>\n    <tr>\n      <th>1</th>\n      <td>COOLEMAN, BIMBERI, BRINDABELLA, URIARRA</td>\n      <td>-35.316175</td>\n      <td>149.010503</td>\n      <td>Scope</td>\n      <td>-35.318698</td>\n      <td>149.009088</td>\n      <td>Caf\u00e9</td>\n    </tr>\n    <tr>\n      <th>2</th>\n      <td>PARINGI</td>\n      <td>-34.196090</td>\n      <td>142.142540</td>\n      <td>Subway</td>\n      <td>-34.197785</td>\n      <td>142.146798</td>\n      <td>Sandwich Place</td>\n    </tr>\n    <tr>\n      <th>3</th>\n      <td>PARINGI</td>\n      <td>-34.196090</td>\n      <td>142.142540</td>\n      <td>Takeaway</td>\n      <td>-34.192816</td>\n      <td>142.142744</td>\n      <td>Deli / Bodega</td>\n    </tr>\n    <tr>\n      <th>4</th>\n      <td>PARINGI</td>\n      <td>-34.196090</td>\n      <td>142.142540</td>\n      <td>Pinno's Pizza Pasta Bar</td>\n      <td>-34.197463</td>\n      <td>142.146950</td>\n      <td>Pizza Place</td>\n    </tr>\n    <tr>\n      <th>5</th>\n      <td>PARINGI</td>\n      <td>-34.196090</td>\n      <td>142.142540</td>\n      <td>Coral Sea Fish And Chips</td>\n      <td>-34.197536</td>\n      <td>142.147181</td>\n      <td>Fish &amp; Chips Shop</td>\n    </tr>\n    <tr>\n      <th>6</th>\n      <td>MURRAY DOWNS</td>\n      <td>-35.342298</td>\n      <td>143.558281</td>\n      <td>Jilarty Cafe</td>\n      <td>-35.341274</td>\n      <td>143.560255</td>\n      <td>Caf\u00e9</td>\n    </tr>\n    <tr>\n      <th>7</th>\n      <td>MURRAY DOWNS</td>\n      <td>-35.342298</td>\n      <td>143.558281</td>\n      <td>KFC</td>\n      <td>-35.343087</td>\n      <td>143.560441</td>\n      <td>Fast Food Restaurant</td>\n    </tr>\n    <tr>\n      <th>8</th>\n      <td>MURRAY DOWNS</td>\n      <td>-35.342298</td>\n      <td>143.558281</td>\n      <td>Quo Vadis</td>\n      <td>-35.341676</td>\n      <td>143.560437</td>\n      <td>Italian Restaurant</td>\n    </tr>\n    <tr>\n      <th>9</th>\n      <td>MURRAY DOWNS</td>\n      <td>-35.342298</td>\n      <td>143.558281</td>\n      <td>The 202 Cafe</td>\n      <td>-35.340252</td>\n      <td>143.558282</td>\n      <td>Caf\u00e9</td>\n    </tr>\n    <tr>\n      <th>10</th>\n      <td>MURRAY DOWNS</td>\n      <td>-35.342298</td>\n      <td>143.558281</td>\n      <td>The Reject Shop Swan Hill</td>\n      <td>-35.339293</td>\n      <td>143.559812</td>\n      <td>Discount Store</td>\n    </tr>\n    <tr>\n      <th>11</th>\n      <td>BAROOGA, LALALTY</td>\n      <td>-35.911559</td>\n      <td>145.671953</td>\n      <td>Thompsons Beach</td>\n      <td>-35.913436</td>\n      <td>145.668626</td>\n      <td>Beach</td>\n    </tr>\n    <tr>\n      <th>12</th>\n      <td>BAROOGA, LALALTY</td>\n      <td>-35.911559</td>\n      <td>145.671953</td>\n      <td>Beach Cafe</td>\n      <td>-35.913029</td>\n      <td>145.667166</td>\n      <td>Caf\u00e9</td>\n    </tr>\n  </tbody>\n</table>\n</div>", 
                        "text/plain": "                               Neighborhood  Neighborhood Latitude  \\\n0   COOLEMAN, BIMBERI, BRINDABELLA, URIARRA             -35.316175   \n1   COOLEMAN, BIMBERI, BRINDABELLA, URIARRA             -35.316175   \n2                                   PARINGI             -34.196090   \n3                                   PARINGI             -34.196090   \n4                                   PARINGI             -34.196090   \n5                                   PARINGI             -34.196090   \n6                              MURRAY DOWNS             -35.342298   \n7                              MURRAY DOWNS             -35.342298   \n8                              MURRAY DOWNS             -35.342298   \n9                              MURRAY DOWNS             -35.342298   \n10                             MURRAY DOWNS             -35.342298   \n11                         BAROOGA, LALALTY             -35.911559   \n12                         BAROOGA, LALALTY             -35.911559   \n\n    Neighborhood Longitude                      Venue  Venue Latitude  \\\n0               149.010503     Mt Stromlo Observatory      -35.318720   \n1               149.010503                      Scope      -35.318698   \n2               142.142540                     Subway      -34.197785   \n3               142.142540                   Takeaway      -34.192816   \n4               142.142540    Pinno's Pizza Pasta Bar      -34.197463   \n5               142.142540   Coral Sea Fish And Chips      -34.197536   \n6               143.558281               Jilarty Cafe      -35.341274   \n7               143.558281                        KFC      -35.343087   \n8               143.558281                  Quo Vadis      -35.341676   \n9               143.558281               The 202 Cafe      -35.340252   \n10              143.558281  The Reject Shop Swan Hill      -35.339293   \n11              145.671953            Thompsons Beach      -35.913436   \n12              145.671953                 Beach Cafe      -35.913029   \n\n    Venue Longitude        Venue Category  \n0        149.009041           Planetarium  \n1        149.009088                  Caf\u00e9  \n2        142.146798        Sandwich Place  \n3        142.142744         Deli / Bodega  \n4        142.146950           Pizza Place  \n5        142.147181     Fish & Chips Shop  \n6        143.560255                  Caf\u00e9  \n7        143.560441  Fast Food Restaurant  \n8        143.560437    Italian Restaurant  \n9        143.558282                  Caf\u00e9  \n10       143.559812        Discount Store  \n11       145.668626                 Beach  \n12       145.667166                  Caf\u00e9  "
                    }, 
                    "output_type": "execute_result"
                }
            ], 
            "source": "print(aus_venues.shape)\naus_venues"
        }, 
        {
            "execution_count": 31, 
            "cell_type": "code", 
            "metadata": {}, 
            "outputs": [
                {
                    "execution_count": 31, 
                    "metadata": {}, 
                    "data": {
                        "text/html": "<div>\n<style scoped>\n    .dataframe tbody tr th:only-of-type {\n        vertical-align: middle;\n    }\n\n    .dataframe tbody tr th {\n        vertical-align: top;\n    }\n\n    .dataframe thead th {\n        text-align: right;\n    }\n</style>\n<table border=\"1\" class=\"dataframe\">\n  <thead>\n    <tr style=\"text-align: right;\">\n      <th></th>\n      <th>Neighborhood Latitude</th>\n      <th>Neighborhood Longitude</th>\n      <th>Venue</th>\n      <th>Venue Latitude</th>\n      <th>Venue Longitude</th>\n      <th>Venue Category</th>\n    </tr>\n    <tr>\n      <th>Neighborhood</th>\n      <th></th>\n      <th></th>\n      <th></th>\n      <th></th>\n      <th></th>\n      <th></th>\n    </tr>\n  </thead>\n  <tbody>\n    <tr>\n      <th>BAROOGA, LALALTY</th>\n      <td>2</td>\n      <td>2</td>\n      <td>2</td>\n      <td>2</td>\n      <td>2</td>\n      <td>2</td>\n    </tr>\n    <tr>\n      <th>COOLEMAN, BIMBERI, BRINDABELLA, URIARRA</th>\n      <td>2</td>\n      <td>2</td>\n      <td>2</td>\n      <td>2</td>\n      <td>2</td>\n      <td>2</td>\n    </tr>\n    <tr>\n      <th>MURRAY DOWNS</th>\n      <td>5</td>\n      <td>5</td>\n      <td>5</td>\n      <td>5</td>\n      <td>5</td>\n      <td>5</td>\n    </tr>\n    <tr>\n      <th>PARINGI</th>\n      <td>4</td>\n      <td>4</td>\n      <td>4</td>\n      <td>4</td>\n      <td>4</td>\n      <td>4</td>\n    </tr>\n  </tbody>\n</table>\n</div>", 
                        "text/plain": "                                         Neighborhood Latitude  \\\nNeighborhood                                                     \nBAROOGA, LALALTY                                             2   \nCOOLEMAN, BIMBERI, BRINDABELLA, URIARRA                      2   \nMURRAY DOWNS                                                 5   \nPARINGI                                                      4   \n\n                                         Neighborhood Longitude  Venue  \\\nNeighborhood                                                             \nBAROOGA, LALALTY                                              2      2   \nCOOLEMAN, BIMBERI, BRINDABELLA, URIARRA                       2      2   \nMURRAY DOWNS                                                  5      5   \nPARINGI                                                       4      4   \n\n                                         Venue Latitude  Venue Longitude  \\\nNeighborhood                                                               \nBAROOGA, LALALTY                                      2                2   \nCOOLEMAN, BIMBERI, BRINDABELLA, URIARRA               2                2   \nMURRAY DOWNS                                          5                5   \nPARINGI                                               4                4   \n\n                                         Venue Category  \nNeighborhood                                             \nBAROOGA, LALALTY                                      2  \nCOOLEMAN, BIMBERI, BRINDABELLA, URIARRA               2  \nMURRAY DOWNS                                          5  \nPARINGI                                               4  "
                    }, 
                    "output_type": "execute_result"
                }
            ], 
            "source": "aus_venues.groupby('Neighborhood').count()"
        }, 
        {
            "execution_count": 32, 
            "cell_type": "code", 
            "metadata": {}, 
            "outputs": [
                {
                    "output_type": "stream", 
                    "name": "stdout", 
                    "text": "There are 10 uniques categories.\n"
                }
            ], 
            "source": "print('There are {} uniques categories.'.format(len(aus_venues['Venue Category'].unique())))"
        }, 
        {
            "execution_count": 33, 
            "cell_type": "code", 
            "metadata": {}, 
            "outputs": [
                {
                    "execution_count": 33, 
                    "metadata": {}, 
                    "data": {
                        "text/html": "<div>\n<style scoped>\n    .dataframe tbody tr th:only-of-type {\n        vertical-align: middle;\n    }\n\n    .dataframe tbody tr th {\n        vertical-align: top;\n    }\n\n    .dataframe thead th {\n        text-align: right;\n    }\n</style>\n<table border=\"1\" class=\"dataframe\">\n  <thead>\n    <tr style=\"text-align: right;\">\n      <th></th>\n      <th>Neighborhood</th>\n      <th>Beach</th>\n      <th>Caf\u00e9</th>\n      <th>Deli / Bodega</th>\n      <th>Discount Store</th>\n      <th>Fast Food Restaurant</th>\n      <th>Fish &amp; Chips Shop</th>\n      <th>Italian Restaurant</th>\n      <th>Pizza Place</th>\n      <th>Planetarium</th>\n      <th>Sandwich Place</th>\n    </tr>\n  </thead>\n  <tbody>\n    <tr>\n      <th>0</th>\n      <td>COOLEMAN, BIMBERI, BRINDABELLA, URIARRA</td>\n      <td>0</td>\n      <td>0</td>\n      <td>0</td>\n      <td>0</td>\n      <td>0</td>\n      <td>0</td>\n      <td>0</td>\n      <td>0</td>\n      <td>1</td>\n      <td>0</td>\n    </tr>\n    <tr>\n      <th>1</th>\n      <td>COOLEMAN, BIMBERI, BRINDABELLA, URIARRA</td>\n      <td>0</td>\n      <td>1</td>\n      <td>0</td>\n      <td>0</td>\n      <td>0</td>\n      <td>0</td>\n      <td>0</td>\n      <td>0</td>\n      <td>0</td>\n      <td>0</td>\n    </tr>\n    <tr>\n      <th>2</th>\n      <td>PARINGI</td>\n      <td>0</td>\n      <td>0</td>\n      <td>0</td>\n      <td>0</td>\n      <td>0</td>\n      <td>0</td>\n      <td>0</td>\n      <td>0</td>\n      <td>0</td>\n      <td>1</td>\n    </tr>\n    <tr>\n      <th>3</th>\n      <td>PARINGI</td>\n      <td>0</td>\n      <td>0</td>\n      <td>1</td>\n      <td>0</td>\n      <td>0</td>\n      <td>0</td>\n      <td>0</td>\n      <td>0</td>\n      <td>0</td>\n      <td>0</td>\n    </tr>\n    <tr>\n      <th>4</th>\n      <td>PARINGI</td>\n      <td>0</td>\n      <td>0</td>\n      <td>0</td>\n      <td>0</td>\n      <td>0</td>\n      <td>0</td>\n      <td>0</td>\n      <td>1</td>\n      <td>0</td>\n      <td>0</td>\n    </tr>\n    <tr>\n      <th>5</th>\n      <td>PARINGI</td>\n      <td>0</td>\n      <td>0</td>\n      <td>0</td>\n      <td>0</td>\n      <td>0</td>\n      <td>1</td>\n      <td>0</td>\n      <td>0</td>\n      <td>0</td>\n      <td>0</td>\n    </tr>\n    <tr>\n      <th>6</th>\n      <td>MURRAY DOWNS</td>\n      <td>0</td>\n      <td>1</td>\n      <td>0</td>\n      <td>0</td>\n      <td>0</td>\n      <td>0</td>\n      <td>0</td>\n      <td>0</td>\n      <td>0</td>\n      <td>0</td>\n    </tr>\n    <tr>\n      <th>7</th>\n      <td>MURRAY DOWNS</td>\n      <td>0</td>\n      <td>0</td>\n      <td>0</td>\n      <td>0</td>\n      <td>1</td>\n      <td>0</td>\n      <td>0</td>\n      <td>0</td>\n      <td>0</td>\n      <td>0</td>\n    </tr>\n    <tr>\n      <th>8</th>\n      <td>MURRAY DOWNS</td>\n      <td>0</td>\n      <td>0</td>\n      <td>0</td>\n      <td>0</td>\n      <td>0</td>\n      <td>0</td>\n      <td>1</td>\n      <td>0</td>\n      <td>0</td>\n      <td>0</td>\n    </tr>\n    <tr>\n      <th>9</th>\n      <td>MURRAY DOWNS</td>\n      <td>0</td>\n      <td>1</td>\n      <td>0</td>\n      <td>0</td>\n      <td>0</td>\n      <td>0</td>\n      <td>0</td>\n      <td>0</td>\n      <td>0</td>\n      <td>0</td>\n    </tr>\n    <tr>\n      <th>10</th>\n      <td>MURRAY DOWNS</td>\n      <td>0</td>\n      <td>0</td>\n      <td>0</td>\n      <td>1</td>\n      <td>0</td>\n      <td>0</td>\n      <td>0</td>\n      <td>0</td>\n      <td>0</td>\n      <td>0</td>\n    </tr>\n    <tr>\n      <th>11</th>\n      <td>BAROOGA, LALALTY</td>\n      <td>1</td>\n      <td>0</td>\n      <td>0</td>\n      <td>0</td>\n      <td>0</td>\n      <td>0</td>\n      <td>0</td>\n      <td>0</td>\n      <td>0</td>\n      <td>0</td>\n    </tr>\n    <tr>\n      <th>12</th>\n      <td>BAROOGA, LALALTY</td>\n      <td>0</td>\n      <td>1</td>\n      <td>0</td>\n      <td>0</td>\n      <td>0</td>\n      <td>0</td>\n      <td>0</td>\n      <td>0</td>\n      <td>0</td>\n      <td>0</td>\n    </tr>\n  </tbody>\n</table>\n</div>", 
                        "text/plain": "                               Neighborhood  Beach  Caf\u00e9  Deli / Bodega  \\\n0   COOLEMAN, BIMBERI, BRINDABELLA, URIARRA      0     0              0   \n1   COOLEMAN, BIMBERI, BRINDABELLA, URIARRA      0     1              0   \n2                                   PARINGI      0     0              0   \n3                                   PARINGI      0     0              1   \n4                                   PARINGI      0     0              0   \n5                                   PARINGI      0     0              0   \n6                              MURRAY DOWNS      0     1              0   \n7                              MURRAY DOWNS      0     0              0   \n8                              MURRAY DOWNS      0     0              0   \n9                              MURRAY DOWNS      0     1              0   \n10                             MURRAY DOWNS      0     0              0   \n11                         BAROOGA, LALALTY      1     0              0   \n12                         BAROOGA, LALALTY      0     1              0   \n\n    Discount Store  Fast Food Restaurant  Fish & Chips Shop  \\\n0                0                     0                  0   \n1                0                     0                  0   \n2                0                     0                  0   \n3                0                     0                  0   \n4                0                     0                  0   \n5                0                     0                  1   \n6                0                     0                  0   \n7                0                     1                  0   \n8                0                     0                  0   \n9                0                     0                  0   \n10               1                     0                  0   \n11               0                     0                  0   \n12               0                     0                  0   \n\n    Italian Restaurant  Pizza Place  Planetarium  Sandwich Place  \n0                    0            0            1               0  \n1                    0            0            0               0  \n2                    0            0            0               1  \n3                    0            0            0               0  \n4                    0            1            0               0  \n5                    0            0            0               0  \n6                    0            0            0               0  \n7                    0            0            0               0  \n8                    1            0            0               0  \n9                    0            0            0               0  \n10                   0            0            0               0  \n11                   0            0            0               0  \n12                   0            0            0               0  "
                    }, 
                    "output_type": "execute_result"
                }
            ], 
            "source": "# one hot encoding\naus_onehot = pd.get_dummies(aus_venues[['Venue Category']], prefix=\"\", prefix_sep=\"\")\n\n# add neighborhood column back to dataframe\naus_onehot['Neighborhood'] = aus_venues['Neighborhood'] \n\n# move neighborhood column to the first column\nfixed_columns = [aus_onehot.columns[-1]] + list(aus_onehot.columns[:-1])\naus_onehot = aus_onehot[fixed_columns]\n\naus_onehot"
        }, 
        {
            "execution_count": 34, 
            "cell_type": "code", 
            "metadata": {}, 
            "outputs": [
                {
                    "execution_count": 34, 
                    "metadata": {}, 
                    "data": {
                        "text/html": "<div>\n<style scoped>\n    .dataframe tbody tr th:only-of-type {\n        vertical-align: middle;\n    }\n\n    .dataframe tbody tr th {\n        vertical-align: top;\n    }\n\n    .dataframe thead th {\n        text-align: right;\n    }\n</style>\n<table border=\"1\" class=\"dataframe\">\n  <thead>\n    <tr style=\"text-align: right;\">\n      <th></th>\n      <th>Neighborhood</th>\n      <th>Beach</th>\n      <th>Caf\u00e9</th>\n      <th>Deli / Bodega</th>\n      <th>Discount Store</th>\n      <th>Fast Food Restaurant</th>\n      <th>Fish &amp; Chips Shop</th>\n      <th>Italian Restaurant</th>\n      <th>Pizza Place</th>\n      <th>Planetarium</th>\n      <th>Sandwich Place</th>\n    </tr>\n  </thead>\n  <tbody>\n    <tr>\n      <th>0</th>\n      <td>BAROOGA, LALALTY</td>\n      <td>0.5</td>\n      <td>0.5</td>\n      <td>0.00</td>\n      <td>0.0</td>\n      <td>0.0</td>\n      <td>0.00</td>\n      <td>0.0</td>\n      <td>0.00</td>\n      <td>0.0</td>\n      <td>0.00</td>\n    </tr>\n    <tr>\n      <th>1</th>\n      <td>COOLEMAN, BIMBERI, BRINDABELLA, URIARRA</td>\n      <td>0.0</td>\n      <td>0.5</td>\n      <td>0.00</td>\n      <td>0.0</td>\n      <td>0.0</td>\n      <td>0.00</td>\n      <td>0.0</td>\n      <td>0.00</td>\n      <td>0.5</td>\n      <td>0.00</td>\n    </tr>\n    <tr>\n      <th>2</th>\n      <td>MURRAY DOWNS</td>\n      <td>0.0</td>\n      <td>0.4</td>\n      <td>0.00</td>\n      <td>0.2</td>\n      <td>0.2</td>\n      <td>0.00</td>\n      <td>0.2</td>\n      <td>0.00</td>\n      <td>0.0</td>\n      <td>0.00</td>\n    </tr>\n    <tr>\n      <th>3</th>\n      <td>PARINGI</td>\n      <td>0.0</td>\n      <td>0.0</td>\n      <td>0.25</td>\n      <td>0.0</td>\n      <td>0.0</td>\n      <td>0.25</td>\n      <td>0.0</td>\n      <td>0.25</td>\n      <td>0.0</td>\n      <td>0.25</td>\n    </tr>\n  </tbody>\n</table>\n</div>", 
                        "text/plain": "                              Neighborhood  Beach  Caf\u00e9  Deli / Bodega  \\\n0                         BAROOGA, LALALTY    0.5   0.5           0.00   \n1  COOLEMAN, BIMBERI, BRINDABELLA, URIARRA    0.0   0.5           0.00   \n2                             MURRAY DOWNS    0.0   0.4           0.00   \n3                                  PARINGI    0.0   0.0           0.25   \n\n   Discount Store  Fast Food Restaurant  Fish & Chips Shop  \\\n0             0.0                   0.0               0.00   \n1             0.0                   0.0               0.00   \n2             0.2                   0.2               0.00   \n3             0.0                   0.0               0.25   \n\n   Italian Restaurant  Pizza Place  Planetarium  Sandwich Place  \n0                 0.0         0.00          0.0            0.00  \n1                 0.0         0.00          0.5            0.00  \n2                 0.2         0.00          0.0            0.00  \n3                 0.0         0.25          0.0            0.25  "
                    }, 
                    "output_type": "execute_result"
                }
            ], 
            "source": "aus_grouped = aus_onehot.groupby('Neighborhood').mean().reset_index()\naus_grouped"
        }, 
        {
            "execution_count": 35, 
            "cell_type": "code", 
            "metadata": {}, 
            "outputs": [
                {
                    "output_type": "stream", 
                    "name": "stdout", 
                    "text": "----BAROOGA, LALALTY----\n                  venue  freq\n0                 Beach   0.5\n1                  Caf\u00e9   0.5\n2         Deli / Bodega   0.0\n3        Discount Store   0.0\n4  Fast Food Restaurant   0.0\n\n\n----COOLEMAN, BIMBERI, BRINDABELLA, URIARRA----\n            venue  freq\n0            Caf\u00e9   0.5\n1     Planetarium   0.5\n2           Beach   0.0\n3   Deli / Bodega   0.0\n4  Discount Store   0.0\n\n\n----MURRAY DOWNS----\n                  venue  freq\n0                  Caf\u00e9   0.4\n1        Discount Store   0.2\n2  Fast Food Restaurant   0.2\n3    Italian Restaurant   0.2\n4                 Beach   0.0\n\n\n----PARINGI----\n               venue  freq\n0      Deli / Bodega  0.25\n1  Fish & Chips Shop  0.25\n2        Pizza Place  0.25\n3     Sandwich Place  0.25\n4              Beach  0.00\n\n\n"
                }
            ], 
            "source": "num_top_venues = 5\n\nfor hood in aus_grouped['Neighborhood']:\n    print(\"----\"+hood+\"----\")\n    temp = aus_grouped[aus_grouped['Neighborhood'] == hood].T.reset_index()\n    temp.columns = ['venue','freq']\n    temp = temp.iloc[1:]\n    temp['freq'] = temp['freq'].astype(float)\n    temp = temp.round({'freq': 2})\n    print(temp.sort_values('freq', ascending=False).reset_index(drop=True).head(num_top_venues))\n    print('\\n')"
        }, 
        {
            "execution_count": 36, 
            "cell_type": "code", 
            "metadata": {}, 
            "outputs": [], 
            "source": "def return_most_common_venues(row, num_top_venues):\n    row_categories = row.iloc[1:]\n    row_categories_sorted = row_categories.sort_values(ascending=False)\n    \n    return row_categories_sorted.index.values[0:num_top_venues]"
        }, 
        {
            "execution_count": 37, 
            "cell_type": "code", 
            "metadata": {}, 
            "outputs": [], 
            "source": "import numpy as np"
        }, 
        {
            "execution_count": 38, 
            "cell_type": "code", 
            "metadata": {}, 
            "outputs": [
                {
                    "execution_count": 38, 
                    "metadata": {}, 
                    "data": {
                        "text/html": "<div>\n<style scoped>\n    .dataframe tbody tr th:only-of-type {\n        vertical-align: middle;\n    }\n\n    .dataframe tbody tr th {\n        vertical-align: top;\n    }\n\n    .dataframe thead th {\n        text-align: right;\n    }\n</style>\n<table border=\"1\" class=\"dataframe\">\n  <thead>\n    <tr style=\"text-align: right;\">\n      <th></th>\n      <th>Neighborhood</th>\n      <th>1st Most Common Venue</th>\n      <th>2nd Most Common Venue</th>\n      <th>3rd Most Common Venue</th>\n      <th>4th Most Common Venue</th>\n      <th>5th Most Common Venue</th>\n      <th>6th Most Common Venue</th>\n      <th>7th Most Common Venue</th>\n      <th>8th Most Common Venue</th>\n      <th>9th Most Common Venue</th>\n      <th>10th Most Common Venue</th>\n    </tr>\n  </thead>\n  <tbody>\n    <tr>\n      <th>0</th>\n      <td>BAROOGA, LALALTY</td>\n      <td>Caf\u00e9</td>\n      <td>Beach</td>\n      <td>Sandwich Place</td>\n      <td>Planetarium</td>\n      <td>Pizza Place</td>\n      <td>Italian Restaurant</td>\n      <td>Fish &amp; Chips Shop</td>\n      <td>Fast Food Restaurant</td>\n      <td>Discount Store</td>\n      <td>Deli / Bodega</td>\n    </tr>\n    <tr>\n      <th>1</th>\n      <td>COOLEMAN, BIMBERI, BRINDABELLA, URIARRA</td>\n      <td>Planetarium</td>\n      <td>Caf\u00e9</td>\n      <td>Sandwich Place</td>\n      <td>Pizza Place</td>\n      <td>Italian Restaurant</td>\n      <td>Fish &amp; Chips Shop</td>\n      <td>Fast Food Restaurant</td>\n      <td>Discount Store</td>\n      <td>Deli / Bodega</td>\n      <td>Beach</td>\n    </tr>\n    <tr>\n      <th>2</th>\n      <td>MURRAY DOWNS</td>\n      <td>Caf\u00e9</td>\n      <td>Italian Restaurant</td>\n      <td>Fast Food Restaurant</td>\n      <td>Discount Store</td>\n      <td>Sandwich Place</td>\n      <td>Planetarium</td>\n      <td>Pizza Place</td>\n      <td>Fish &amp; Chips Shop</td>\n      <td>Deli / Bodega</td>\n      <td>Beach</td>\n    </tr>\n    <tr>\n      <th>3</th>\n      <td>PARINGI</td>\n      <td>Sandwich Place</td>\n      <td>Pizza Place</td>\n      <td>Fish &amp; Chips Shop</td>\n      <td>Deli / Bodega</td>\n      <td>Planetarium</td>\n      <td>Italian Restaurant</td>\n      <td>Fast Food Restaurant</td>\n      <td>Discount Store</td>\n      <td>Caf\u00e9</td>\n      <td>Beach</td>\n    </tr>\n  </tbody>\n</table>\n</div>", 
                        "text/plain": "                              Neighborhood 1st Most Common Venue  \\\n0                         BAROOGA, LALALTY                  Caf\u00e9   \n1  COOLEMAN, BIMBERI, BRINDABELLA, URIARRA           Planetarium   \n2                             MURRAY DOWNS                  Caf\u00e9   \n3                                  PARINGI        Sandwich Place   \n\n  2nd Most Common Venue 3rd Most Common Venue 4th Most Common Venue  \\\n0                 Beach        Sandwich Place           Planetarium   \n1                  Caf\u00e9        Sandwich Place           Pizza Place   \n2    Italian Restaurant  Fast Food Restaurant        Discount Store   \n3           Pizza Place     Fish & Chips Shop         Deli / Bodega   \n\n  5th Most Common Venue 6th Most Common Venue 7th Most Common Venue  \\\n0           Pizza Place    Italian Restaurant     Fish & Chips Shop   \n1    Italian Restaurant     Fish & Chips Shop  Fast Food Restaurant   \n2        Sandwich Place           Planetarium           Pizza Place   \n3           Planetarium    Italian Restaurant  Fast Food Restaurant   \n\n  8th Most Common Venue 9th Most Common Venue 10th Most Common Venue  \n0  Fast Food Restaurant        Discount Store          Deli / Bodega  \n1        Discount Store         Deli / Bodega                  Beach  \n2     Fish & Chips Shop         Deli / Bodega                  Beach  \n3        Discount Store                  Caf\u00e9                  Beach  "
                    }, 
                    "output_type": "execute_result"
                }
            ], 
            "source": "num_top_venues = 10\n\nindicators = ['st', 'nd', 'rd']\n\n# create columns according to number of top venues\ncolumns = ['Neighborhood']\nfor ind in np.arange(num_top_venues):\n    try:\n        columns.append('{}{} Most Common Venue'.format(ind+1, indicators[ind]))\n    except:\n        columns.append('{}th Most Common Venue'.format(ind+1))\n\n# create a new dataframe\nneighborhoods_venues_sorted = pd.DataFrame(columns=columns)\nneighborhoods_venues_sorted['Neighborhood'] = aus_grouped['Neighborhood']\n\nfor ind in np.arange(aus_grouped.shape[0]):\n    neighborhoods_venues_sorted.iloc[ind, 1:] = return_most_common_venues(aus_grouped.iloc[ind, :], num_top_venues)\n\nneighborhoods_venues_sorted"
        }, 
        {
            "source": "#### Creating clusters of the neighborhoods", 
            "cell_type": "markdown", 
            "metadata": {}
        }, 
        {
            "execution_count": 42, 
            "cell_type": "code", 
            "metadata": {}, 
            "outputs": [
                {
                    "execution_count": 42, 
                    "metadata": {}, 
                    "data": {
                        "text/plain": "array([0, 2, 2, 1], dtype=int32)"
                    }, 
                    "output_type": "execute_result"
                }
            ], 
            "source": "from sklearn.cluster import KMeans\n# set number of clusters\nkclusters = 3\n\naus_grouped_clustering = aus_grouped.drop('Neighborhood', 1)\n\n# run k-means clustering\nkmeans = KMeans(n_clusters=kclusters, random_state=0).fit(aus_grouped_clustering)\n\n# check cluster labels generated for each row in the dataframe\nkmeans.labels_"
        }, 
        {
            "execution_count": 43, 
            "cell_type": "code", 
            "metadata": {}, 
            "outputs": [
                {
                    "execution_count": 43, 
                    "metadata": {}, 
                    "data": {
                        "text/html": "<div>\n<style scoped>\n    .dataframe tbody tr th:only-of-type {\n        vertical-align: middle;\n    }\n\n    .dataframe tbody tr th {\n        vertical-align: top;\n    }\n\n    .dataframe thead th {\n        text-align: right;\n    }\n</style>\n<table border=\"1\" class=\"dataframe\">\n  <thead>\n    <tr style=\"text-align: right;\">\n      <th></th>\n      <th>PostCode</th>\n      <th>State/Territory</th>\n      <th>Neighborhood</th>\n      <th>Latitude</th>\n      <th>Longitude</th>\n      <th>1st Most Common Venue</th>\n      <th>2nd Most Common Venue</th>\n      <th>3rd Most Common Venue</th>\n      <th>4th Most Common Venue</th>\n      <th>5th Most Common Venue</th>\n      <th>6th Most Common Venue</th>\n      <th>7th Most Common Venue</th>\n      <th>8th Most Common Venue</th>\n      <th>9th Most Common Venue</th>\n      <th>10th Most Common Venue</th>\n      <th>Cluster Labels</th>\n    </tr>\n  </thead>\n  <tbody>\n    <tr>\n      <th>0</th>\n      <td>2611</td>\n      <td>Australian Capital Territory</td>\n      <td>COOLEMAN, BIMBERI, BRINDABELLA, URIARRA</td>\n      <td>-35.316175</td>\n      <td>149.010503</td>\n      <td>Planetarium</td>\n      <td>Caf\u00e9</td>\n      <td>Sandwich Place</td>\n      <td>Pizza Place</td>\n      <td>Italian Restaurant</td>\n      <td>Fish &amp; Chips Shop</td>\n      <td>Fast Food Restaurant</td>\n      <td>Discount Store</td>\n      <td>Deli / Bodega</td>\n      <td>Beach</td>\n      <td>0</td>\n    </tr>\n    <tr>\n      <th>1</th>\n      <td>3500</td>\n      <td>Victoria</td>\n      <td>PARINGI</td>\n      <td>-34.196090</td>\n      <td>142.142540</td>\n      <td>Sandwich Place</td>\n      <td>Pizza Place</td>\n      <td>Fish &amp; Chips Shop</td>\n      <td>Deli / Bodega</td>\n      <td>Planetarium</td>\n      <td>Italian Restaurant</td>\n      <td>Fast Food Restaurant</td>\n      <td>Discount Store</td>\n      <td>Caf\u00e9</td>\n      <td>Beach</td>\n      <td>2</td>\n    </tr>\n    <tr>\n      <th>2</th>\n      <td>3585</td>\n      <td>Victoria</td>\n      <td>MURRAY DOWNS</td>\n      <td>-35.342298</td>\n      <td>143.558281</td>\n      <td>Caf\u00e9</td>\n      <td>Italian Restaurant</td>\n      <td>Fast Food Restaurant</td>\n      <td>Discount Store</td>\n      <td>Sandwich Place</td>\n      <td>Planetarium</td>\n      <td>Pizza Place</td>\n      <td>Fish &amp; Chips Shop</td>\n      <td>Deli / Bodega</td>\n      <td>Beach</td>\n      <td>2</td>\n    </tr>\n    <tr>\n      <th>3</th>\n      <td>3644</td>\n      <td>Victoria</td>\n      <td>BAROOGA, LALALTY</td>\n      <td>-35.911559</td>\n      <td>145.671953</td>\n      <td>Caf\u00e9</td>\n      <td>Beach</td>\n      <td>Sandwich Place</td>\n      <td>Planetarium</td>\n      <td>Pizza Place</td>\n      <td>Italian Restaurant</td>\n      <td>Fish &amp; Chips Shop</td>\n      <td>Fast Food Restaurant</td>\n      <td>Discount Store</td>\n      <td>Deli / Bodega</td>\n      <td>1</td>\n    </tr>\n  </tbody>\n</table>\n</div>", 
                        "text/plain": "  PostCode               State/Territory  \\\n0     2611  Australian Capital Territory   \n1     3500                      Victoria   \n2     3585                      Victoria   \n3     3644                      Victoria   \n\n                              Neighborhood   Latitude   Longitude  \\\n0  COOLEMAN, BIMBERI, BRINDABELLA, URIARRA -35.316175  149.010503   \n1                                  PARINGI -34.196090  142.142540   \n2                             MURRAY DOWNS -35.342298  143.558281   \n3                         BAROOGA, LALALTY -35.911559  145.671953   \n\n  1st Most Common Venue 2nd Most Common Venue 3rd Most Common Venue  \\\n0           Planetarium                  Caf\u00e9        Sandwich Place   \n1        Sandwich Place           Pizza Place     Fish & Chips Shop   \n2                  Caf\u00e9    Italian Restaurant  Fast Food Restaurant   \n3                  Caf\u00e9                 Beach        Sandwich Place   \n\n  4th Most Common Venue 5th Most Common Venue 6th Most Common Venue  \\\n0           Pizza Place    Italian Restaurant     Fish & Chips Shop   \n1         Deli / Bodega           Planetarium    Italian Restaurant   \n2        Discount Store        Sandwich Place           Planetarium   \n3           Planetarium           Pizza Place    Italian Restaurant   \n\n  7th Most Common Venue 8th Most Common Venue 9th Most Common Venue  \\\n0  Fast Food Restaurant        Discount Store         Deli / Bodega   \n1  Fast Food Restaurant        Discount Store                  Caf\u00e9   \n2           Pizza Place     Fish & Chips Shop         Deli / Bodega   \n3     Fish & Chips Shop  Fast Food Restaurant        Discount Store   \n\n  10th Most Common Venue  Cluster Labels  \n0                  Beach               0  \n1                  Beach               2  \n2                  Beach               2  \n3          Deli / Bodega               1  "
                    }, 
                    "output_type": "execute_result"
                }
            ], 
            "source": "aus_merged = aus_data\n\n# merge toronto_grouped with toronto_data to add latitude/longitude for each neighborhood\naus_merged = pd.merge(aus_merged,neighborhoods_venues_sorted,on='Neighborhood')\n\n# add clustering labels\naus_merged['Cluster Labels'] = kmeans.labels_\n\naus_merged "
        }, 
        {
            "source": "### Visualising the clusters", 
            "cell_type": "markdown", 
            "metadata": {}
        }, 
        {
            "execution_count": 46, 
            "cell_type": "code", 
            "metadata": {}, 
            "outputs": [
                {
                    "execution_count": 46, 
                    "metadata": {}, 
                    "data": {
                        "text/html": "<div style=\"width:100%;\"><div style=\"position:relative;width:100%;height:0;padding-bottom:60%;\"><iframe src=\"data:text/html;charset=utf-8;base64,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\" style=\"position:absolute;width:100%;height:100%;left:0;top:0;border:none !important;\" allowfullscreen webkitallowfullscreen mozallowfullscreen></iframe></div></div>", 
                        "text/plain": "<folium.folium.Map at 0x7fd14ca11278>"
                    }, 
                    "output_type": "execute_result"
                }
            ], 
            "source": "# create map\nimport matplotlib.cm as cm\nimport matplotlib.colors as colors\nmap_clusters = folium.Map(location=[latitude, longitude], zoom_start=5)\n\n# set color scheme for the clusters\nx = np.arange(kclusters)\nys = [i+x+(i*x)**2 for i in range(kclusters)]\ncolors_array = cm.rainbow(np.linspace(0, 1, len(ys)))\nrainbow = [colors.rgb2hex(i) for i in colors_array]\n\n# add markers to the map\nmarkers_colors = []\nfor lat, lon, poi, cluster in zip(aus_merged['Latitude'], aus_merged['Longitude'], aus_merged['Neighborhood'], aus_merged['Cluster Labels']):\n    label = folium.Popup(str(poi) + ' Cluster ' + str(cluster), parse_html=True)\n    folium.CircleMarker(\n        [lat, lon],\n        radius=5,\n        popup=label,\n        color=rainbow[cluster-1],\n        fill=True,\n        fill_color=rainbow[cluster-1],\n        fill_opacity=0.7).add_to(map_clusters)\n       \nmap_clusters"
        }, 
        {
            "source": "### Analysing the clusters", 
            "cell_type": "markdown", 
            "metadata": {}
        }, 
        {
            "execution_count": 47, 
            "cell_type": "code", 
            "metadata": {}, 
            "outputs": [
                {
                    "execution_count": 47, 
                    "metadata": {}, 
                    "data": {
                        "text/html": "<div>\n<style scoped>\n    .dataframe tbody tr th:only-of-type {\n        vertical-align: middle;\n    }\n\n    .dataframe tbody tr th {\n        vertical-align: top;\n    }\n\n    .dataframe thead th {\n        text-align: right;\n    }\n</style>\n<table border=\"1\" class=\"dataframe\">\n  <thead>\n    <tr style=\"text-align: right;\">\n      <th></th>\n      <th>PostCode</th>\n      <th>State/Territory</th>\n      <th>Neighborhood</th>\n      <th>Latitude</th>\n      <th>Longitude</th>\n      <th>1st Most Common Venue</th>\n      <th>2nd Most Common Venue</th>\n      <th>3rd Most Common Venue</th>\n      <th>4th Most Common Venue</th>\n      <th>5th Most Common Venue</th>\n      <th>6th Most Common Venue</th>\n      <th>7th Most Common Venue</th>\n      <th>8th Most Common Venue</th>\n      <th>9th Most Common Venue</th>\n      <th>10th Most Common Venue</th>\n      <th>Cluster Labels</th>\n    </tr>\n  </thead>\n  <tbody>\n    <tr>\n      <th>0</th>\n      <td>2611</td>\n      <td>Australian Capital Territory</td>\n      <td>COOLEMAN, BIMBERI, BRINDABELLA, URIARRA</td>\n      <td>-35.316175</td>\n      <td>149.010503</td>\n      <td>Planetarium</td>\n      <td>Caf\u00e9</td>\n      <td>Sandwich Place</td>\n      <td>Pizza Place</td>\n      <td>Italian Restaurant</td>\n      <td>Fish &amp; Chips Shop</td>\n      <td>Fast Food Restaurant</td>\n      <td>Discount Store</td>\n      <td>Deli / Bodega</td>\n      <td>Beach</td>\n      <td>0</td>\n    </tr>\n  </tbody>\n</table>\n</div>", 
                        "text/plain": "  PostCode               State/Territory  \\\n0     2611  Australian Capital Territory   \n\n                              Neighborhood   Latitude   Longitude  \\\n0  COOLEMAN, BIMBERI, BRINDABELLA, URIARRA -35.316175  149.010503   \n\n  1st Most Common Venue 2nd Most Common Venue 3rd Most Common Venue  \\\n0           Planetarium                  Caf\u00e9        Sandwich Place   \n\n  4th Most Common Venue 5th Most Common Venue 6th Most Common Venue  \\\n0           Pizza Place    Italian Restaurant     Fish & Chips Shop   \n\n  7th Most Common Venue 8th Most Common Venue 9th Most Common Venue  \\\n0  Fast Food Restaurant        Discount Store         Deli / Bodega   \n\n  10th Most Common Venue  Cluster Labels  \n0                  Beach               0  "
                    }, 
                    "output_type": "execute_result"
                }
            ], 
            "source": "#Cluster one\naus_merged[aus_merged['Cluster Labels'] == 0]"
        }, 
        {
            "execution_count": 48, 
            "cell_type": "code", 
            "metadata": {}, 
            "outputs": [
                {
                    "execution_count": 48, 
                    "metadata": {}, 
                    "data": {
                        "text/html": "<div>\n<style scoped>\n    .dataframe tbody tr th:only-of-type {\n        vertical-align: middle;\n    }\n\n    .dataframe tbody tr th {\n        vertical-align: top;\n    }\n\n    .dataframe thead th {\n        text-align: right;\n    }\n</style>\n<table border=\"1\" class=\"dataframe\">\n  <thead>\n    <tr style=\"text-align: right;\">\n      <th></th>\n      <th>PostCode</th>\n      <th>State/Territory</th>\n      <th>Neighborhood</th>\n      <th>Latitude</th>\n      <th>Longitude</th>\n      <th>1st Most Common Venue</th>\n      <th>2nd Most Common Venue</th>\n      <th>3rd Most Common Venue</th>\n      <th>4th Most Common Venue</th>\n      <th>5th Most Common Venue</th>\n      <th>6th Most Common Venue</th>\n      <th>7th Most Common Venue</th>\n      <th>8th Most Common Venue</th>\n      <th>9th Most Common Venue</th>\n      <th>10th Most Common Venue</th>\n      <th>Cluster Labels</th>\n    </tr>\n  </thead>\n  <tbody>\n    <tr>\n      <th>3</th>\n      <td>3644</td>\n      <td>Victoria</td>\n      <td>BAROOGA, LALALTY</td>\n      <td>-35.911559</td>\n      <td>145.671953</td>\n      <td>Caf\u00e9</td>\n      <td>Beach</td>\n      <td>Sandwich Place</td>\n      <td>Planetarium</td>\n      <td>Pizza Place</td>\n      <td>Italian Restaurant</td>\n      <td>Fish &amp; Chips Shop</td>\n      <td>Fast Food Restaurant</td>\n      <td>Discount Store</td>\n      <td>Deli / Bodega</td>\n      <td>1</td>\n    </tr>\n  </tbody>\n</table>\n</div>", 
                        "text/plain": "  PostCode State/Territory      Neighborhood   Latitude   Longitude  \\\n3     3644        Victoria  BAROOGA, LALALTY -35.911559  145.671953   \n\n  1st Most Common Venue 2nd Most Common Venue 3rd Most Common Venue  \\\n3                  Caf\u00e9                 Beach        Sandwich Place   \n\n  4th Most Common Venue 5th Most Common Venue 6th Most Common Venue  \\\n3           Planetarium           Pizza Place    Italian Restaurant   \n\n  7th Most Common Venue 8th Most Common Venue 9th Most Common Venue  \\\n3     Fish & Chips Shop  Fast Food Restaurant        Discount Store   \n\n  10th Most Common Venue  Cluster Labels  \n3          Deli / Bodega               1  "
                    }, 
                    "output_type": "execute_result"
                }
            ], 
            "source": "#Cluster two\naus_merged[aus_merged['Cluster Labels'] == 1]"
        }, 
        {
            "execution_count": 49, 
            "cell_type": "code", 
            "metadata": {}, 
            "outputs": [
                {
                    "execution_count": 49, 
                    "metadata": {}, 
                    "data": {
                        "text/html": "<div>\n<style scoped>\n    .dataframe tbody tr th:only-of-type {\n        vertical-align: middle;\n    }\n\n    .dataframe tbody tr th {\n        vertical-align: top;\n    }\n\n    .dataframe thead th {\n        text-align: right;\n    }\n</style>\n<table border=\"1\" class=\"dataframe\">\n  <thead>\n    <tr style=\"text-align: right;\">\n      <th></th>\n      <th>PostCode</th>\n      <th>State/Territory</th>\n      <th>Neighborhood</th>\n      <th>Latitude</th>\n      <th>Longitude</th>\n      <th>1st Most Common Venue</th>\n      <th>2nd Most Common Venue</th>\n      <th>3rd Most Common Venue</th>\n      <th>4th Most Common Venue</th>\n      <th>5th Most Common Venue</th>\n      <th>6th Most Common Venue</th>\n      <th>7th Most Common Venue</th>\n      <th>8th Most Common Venue</th>\n      <th>9th Most Common Venue</th>\n      <th>10th Most Common Venue</th>\n      <th>Cluster Labels</th>\n    </tr>\n  </thead>\n  <tbody>\n    <tr>\n      <th>1</th>\n      <td>3500</td>\n      <td>Victoria</td>\n      <td>PARINGI</td>\n      <td>-34.196090</td>\n      <td>142.142540</td>\n      <td>Sandwich Place</td>\n      <td>Pizza Place</td>\n      <td>Fish &amp; Chips Shop</td>\n      <td>Deli / Bodega</td>\n      <td>Planetarium</td>\n      <td>Italian Restaurant</td>\n      <td>Fast Food Restaurant</td>\n      <td>Discount Store</td>\n      <td>Caf\u00e9</td>\n      <td>Beach</td>\n      <td>2</td>\n    </tr>\n    <tr>\n      <th>2</th>\n      <td>3585</td>\n      <td>Victoria</td>\n      <td>MURRAY DOWNS</td>\n      <td>-35.342298</td>\n      <td>143.558281</td>\n      <td>Caf\u00e9</td>\n      <td>Italian Restaurant</td>\n      <td>Fast Food Restaurant</td>\n      <td>Discount Store</td>\n      <td>Sandwich Place</td>\n      <td>Planetarium</td>\n      <td>Pizza Place</td>\n      <td>Fish &amp; Chips Shop</td>\n      <td>Deli / Bodega</td>\n      <td>Beach</td>\n      <td>2</td>\n    </tr>\n  </tbody>\n</table>\n</div>", 
                        "text/plain": "  PostCode State/Territory  Neighborhood   Latitude   Longitude  \\\n1     3500        Victoria       PARINGI -34.196090  142.142540   \n2     3585        Victoria  MURRAY DOWNS -35.342298  143.558281   \n\n  1st Most Common Venue 2nd Most Common Venue 3rd Most Common Venue  \\\n1        Sandwich Place           Pizza Place     Fish & Chips Shop   \n2                  Caf\u00e9    Italian Restaurant  Fast Food Restaurant   \n\n  4th Most Common Venue 5th Most Common Venue 6th Most Common Venue  \\\n1         Deli / Bodega           Planetarium    Italian Restaurant   \n2        Discount Store        Sandwich Place           Planetarium   \n\n  7th Most Common Venue 8th Most Common Venue 9th Most Common Venue  \\\n1  Fast Food Restaurant        Discount Store                  Caf\u00e9   \n2           Pizza Place     Fish & Chips Shop         Deli / Bodega   \n\n  10th Most Common Venue  Cluster Labels  \n1                  Beach               2  \n2                  Beach               2  "
                    }, 
                    "output_type": "execute_result"
                }
            ], 
            "source": "#Cluster three\naus_merged[aus_merged['Cluster Labels'] == 2]"
        }, 
        {
            "source": "#### We have used K means clustering to group similar neighborhoods together. The venues have played a role in determining similar venues.We can now use this to make decisions.", 
            "cell_type": "markdown", 
            "metadata": {}
        }, 
        {
            "source": "## Result Section", 
            "cell_type": "markdown", 
            "metadata": {}
        }, 
        {
            "source": "#### Let us take a look at Cluster 1", 
            "cell_type": "markdown", 
            "metadata": {}
        }, 
        {
            "execution_count": 50, 
            "cell_type": "code", 
            "metadata": {}, 
            "outputs": [
                {
                    "execution_count": 50, 
                    "metadata": {}, 
                    "data": {
                        "text/html": "<div>\n<style scoped>\n    .dataframe tbody tr th:only-of-type {\n        vertical-align: middle;\n    }\n\n    .dataframe tbody tr th {\n        vertical-align: top;\n    }\n\n    .dataframe thead th {\n        text-align: right;\n    }\n</style>\n<table border=\"1\" class=\"dataframe\">\n  <thead>\n    <tr style=\"text-align: right;\">\n      <th></th>\n      <th>PostCode</th>\n      <th>State/Territory</th>\n      <th>Neighborhood</th>\n      <th>Latitude</th>\n      <th>Longitude</th>\n      <th>1st Most Common Venue</th>\n      <th>2nd Most Common Venue</th>\n      <th>3rd Most Common Venue</th>\n      <th>4th Most Common Venue</th>\n      <th>5th Most Common Venue</th>\n      <th>6th Most Common Venue</th>\n      <th>7th Most Common Venue</th>\n      <th>8th Most Common Venue</th>\n      <th>9th Most Common Venue</th>\n      <th>10th Most Common Venue</th>\n      <th>Cluster Labels</th>\n    </tr>\n  </thead>\n  <tbody>\n    <tr>\n      <th>0</th>\n      <td>2611</td>\n      <td>Australian Capital Territory</td>\n      <td>COOLEMAN, BIMBERI, BRINDABELLA, URIARRA</td>\n      <td>-35.316175</td>\n      <td>149.010503</td>\n      <td>Planetarium</td>\n      <td>Caf\u00e9</td>\n      <td>Sandwich Place</td>\n      <td>Pizza Place</td>\n      <td>Italian Restaurant</td>\n      <td>Fish &amp; Chips Shop</td>\n      <td>Fast Food Restaurant</td>\n      <td>Discount Store</td>\n      <td>Deli / Bodega</td>\n      <td>Beach</td>\n      <td>0</td>\n    </tr>\n  </tbody>\n</table>\n</div>", 
                        "text/plain": "  PostCode               State/Territory  \\\n0     2611  Australian Capital Territory   \n\n                              Neighborhood   Latitude   Longitude  \\\n0  COOLEMAN, BIMBERI, BRINDABELLA, URIARRA -35.316175  149.010503   \n\n  1st Most Common Venue 2nd Most Common Venue 3rd Most Common Venue  \\\n0           Planetarium                  Caf\u00e9        Sandwich Place   \n\n  4th Most Common Venue 5th Most Common Venue 6th Most Common Venue  \\\n0           Pizza Place    Italian Restaurant     Fish & Chips Shop   \n\n  7th Most Common Venue 8th Most Common Venue 9th Most Common Venue  \\\n0  Fast Food Restaurant        Discount Store         Deli / Bodega   \n\n  10th Most Common Venue  Cluster Labels  \n0                  Beach               0  "
                    }, 
                    "output_type": "execute_result"
                }
            ], 
            "source": "#Cluster one\naus_merged[aus_merged['Cluster Labels'] == 0]"
        }, 
        {
            "source": "##### Seems to me that the planetarium is the most happening place in this neighborhood followed by food places", 
            "cell_type": "markdown", 
            "metadata": {}
        }, 
        {
            "source": "#### Let us take a look at Cluster 2", 
            "cell_type": "markdown", 
            "metadata": {}
        }, 
        {
            "execution_count": 51, 
            "cell_type": "code", 
            "metadata": {}, 
            "outputs": [
                {
                    "execution_count": 51, 
                    "metadata": {}, 
                    "data": {
                        "text/html": "<div>\n<style scoped>\n    .dataframe tbody tr th:only-of-type {\n        vertical-align: middle;\n    }\n\n    .dataframe tbody tr th {\n        vertical-align: top;\n    }\n\n    .dataframe thead th {\n        text-align: right;\n    }\n</style>\n<table border=\"1\" class=\"dataframe\">\n  <thead>\n    <tr style=\"text-align: right;\">\n      <th></th>\n      <th>PostCode</th>\n      <th>State/Territory</th>\n      <th>Neighborhood</th>\n      <th>Latitude</th>\n      <th>Longitude</th>\n      <th>1st Most Common Venue</th>\n      <th>2nd Most Common Venue</th>\n      <th>3rd Most Common Venue</th>\n      <th>4th Most Common Venue</th>\n      <th>5th Most Common Venue</th>\n      <th>6th Most Common Venue</th>\n      <th>7th Most Common Venue</th>\n      <th>8th Most Common Venue</th>\n      <th>9th Most Common Venue</th>\n      <th>10th Most Common Venue</th>\n      <th>Cluster Labels</th>\n    </tr>\n  </thead>\n  <tbody>\n    <tr>\n      <th>3</th>\n      <td>3644</td>\n      <td>Victoria</td>\n      <td>BAROOGA, LALALTY</td>\n      <td>-35.911559</td>\n      <td>145.671953</td>\n      <td>Caf\u00e9</td>\n      <td>Beach</td>\n      <td>Sandwich Place</td>\n      <td>Planetarium</td>\n      <td>Pizza Place</td>\n      <td>Italian Restaurant</td>\n      <td>Fish &amp; Chips Shop</td>\n      <td>Fast Food Restaurant</td>\n      <td>Discount Store</td>\n      <td>Deli / Bodega</td>\n      <td>1</td>\n    </tr>\n  </tbody>\n</table>\n</div>", 
                        "text/plain": "  PostCode State/Territory      Neighborhood   Latitude   Longitude  \\\n3     3644        Victoria  BAROOGA, LALALTY -35.911559  145.671953   \n\n  1st Most Common Venue 2nd Most Common Venue 3rd Most Common Venue  \\\n3                  Caf\u00e9                 Beach        Sandwich Place   \n\n  4th Most Common Venue 5th Most Common Venue 6th Most Common Venue  \\\n3           Planetarium           Pizza Place    Italian Restaurant   \n\n  7th Most Common Venue 8th Most Common Venue 9th Most Common Venue  \\\n3     Fish & Chips Shop  Fast Food Restaurant        Discount Store   \n\n  10th Most Common Venue  Cluster Labels  \n3          Deli / Bodega               1  "
                    }, 
                    "output_type": "execute_result"
                }
            ], 
            "source": "#Cluster two\naus_merged[aus_merged['Cluster Labels'] == 1]"
        }, 
        {
            "source": "##### This neighborhood favours the beach and tends to have a mix of activity areas and food places in the top 5 ", 
            "cell_type": "markdown", 
            "metadata": {}
        }, 
        {
            "source": "#### Let us take a look at Cluster 3", 
            "cell_type": "markdown", 
            "metadata": {}
        }, 
        {
            "execution_count": 52, 
            "cell_type": "code", 
            "metadata": {}, 
            "outputs": [
                {
                    "execution_count": 52, 
                    "metadata": {}, 
                    "data": {
                        "text/html": "<div>\n<style scoped>\n    .dataframe tbody tr th:only-of-type {\n        vertical-align: middle;\n    }\n\n    .dataframe tbody tr th {\n        vertical-align: top;\n    }\n\n    .dataframe thead th {\n        text-align: right;\n    }\n</style>\n<table border=\"1\" class=\"dataframe\">\n  <thead>\n    <tr style=\"text-align: right;\">\n      <th></th>\n      <th>PostCode</th>\n      <th>State/Territory</th>\n      <th>Neighborhood</th>\n      <th>Latitude</th>\n      <th>Longitude</th>\n      <th>1st Most Common Venue</th>\n      <th>2nd Most Common Venue</th>\n      <th>3rd Most Common Venue</th>\n      <th>4th Most Common Venue</th>\n      <th>5th Most Common Venue</th>\n      <th>6th Most Common Venue</th>\n      <th>7th Most Common Venue</th>\n      <th>8th Most Common Venue</th>\n      <th>9th Most Common Venue</th>\n      <th>10th Most Common Venue</th>\n      <th>Cluster Labels</th>\n    </tr>\n  </thead>\n  <tbody>\n    <tr>\n      <th>1</th>\n      <td>3500</td>\n      <td>Victoria</td>\n      <td>PARINGI</td>\n      <td>-34.196090</td>\n      <td>142.142540</td>\n      <td>Sandwich Place</td>\n      <td>Pizza Place</td>\n      <td>Fish &amp; Chips Shop</td>\n      <td>Deli / Bodega</td>\n      <td>Planetarium</td>\n      <td>Italian Restaurant</td>\n      <td>Fast Food Restaurant</td>\n      <td>Discount Store</td>\n      <td>Caf\u00e9</td>\n      <td>Beach</td>\n      <td>2</td>\n    </tr>\n    <tr>\n      <th>2</th>\n      <td>3585</td>\n      <td>Victoria</td>\n      <td>MURRAY DOWNS</td>\n      <td>-35.342298</td>\n      <td>143.558281</td>\n      <td>Caf\u00e9</td>\n      <td>Italian Restaurant</td>\n      <td>Fast Food Restaurant</td>\n      <td>Discount Store</td>\n      <td>Sandwich Place</td>\n      <td>Planetarium</td>\n      <td>Pizza Place</td>\n      <td>Fish &amp; Chips Shop</td>\n      <td>Deli / Bodega</td>\n      <td>Beach</td>\n      <td>2</td>\n    </tr>\n  </tbody>\n</table>\n</div>", 
                        "text/plain": "  PostCode State/Territory  Neighborhood   Latitude   Longitude  \\\n1     3500        Victoria       PARINGI -34.196090  142.142540   \n2     3585        Victoria  MURRAY DOWNS -35.342298  143.558281   \n\n  1st Most Common Venue 2nd Most Common Venue 3rd Most Common Venue  \\\n1        Sandwich Place           Pizza Place     Fish & Chips Shop   \n2                  Caf\u00e9    Italian Restaurant  Fast Food Restaurant   \n\n  4th Most Common Venue 5th Most Common Venue 6th Most Common Venue  \\\n1         Deli / Bodega           Planetarium    Italian Restaurant   \n2        Discount Store        Sandwich Place           Planetarium   \n\n  7th Most Common Venue 8th Most Common Venue 9th Most Common Venue  \\\n1  Fast Food Restaurant        Discount Store                  Caf\u00e9   \n2           Pizza Place     Fish & Chips Shop         Deli / Bodega   \n\n  10th Most Common Venue  Cluster Labels  \n1                  Beach               2  \n2                  Beach               2  "
                    }, 
                    "output_type": "execute_result"
                }
            ], 
            "source": "#Cluster three\naus_merged[aus_merged['Cluster Labels'] == 2]"
        }, 
        {
            "source": "#### We can clearly see that these neighborhoods favour food as food places are in the top 3", 
            "cell_type": "markdown", 
            "metadata": {}
        }, 
        {
            "source": "## Discussion Section", 
            "cell_type": "markdown", 
            "metadata": {}
        }, 
        {
            "source": "Since FourSquare API could not return venues for all the Neighborhoods, we were left with limited data to work with.\nThe project can be improved by getting more location data and hopefully more venues returned by FourSquare.\n\nStill with what we've been able to work with, we have managed to find out the food oriented places and the activity oriented places. With more data, we'll be able to get more venue categories like banks, markets, fairs etc ", 
            "cell_type": "markdown", 
            "metadata": {}
        }, 
        {
            "source": "## Conclusion", 
            "cell_type": "markdown", 
            "metadata": {}
        }, 
        {
            "source": "After examination of the clusters, we can conlude the following;\n  1. Neighborhoods: Paringi and Murray Downs are appropriate for foodies as all the top venues are food places\n  2. The neighborhoods in Australian Capital Territory are useful for anyone who loves the planets and likes to roam around the food places as well\n  3. The Barooga, Lalalty Neighborhood are for beach lovers\n    \nDecisions can me made based on these conclusions.", 
            "cell_type": "markdown", 
            "metadata": {}
        }, 
        {
            "execution_count": null, 
            "cell_type": "code", 
            "metadata": {}, 
            "outputs": [], 
            "source": ""
        }
    ], 
    "metadata": {
        "kernelspec": {
            "display_name": "Python 3.5 with Spark", 
            "name": "python3", 
            "language": "python3"
        }, 
        "language_info": {
            "mimetype": "text/x-python", 
            "nbconvert_exporter": "python", 
            "version": "3.5.4", 
            "name": "python", 
            "file_extension": ".py", 
            "pygments_lexer": "ipython3", 
            "codemirror_mode": {
                "version": 3, 
                "name": "ipython"
            }
        }
    }, 
    "nbformat": 4
}