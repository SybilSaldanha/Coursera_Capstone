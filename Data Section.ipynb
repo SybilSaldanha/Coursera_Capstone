{
    "nbformat_minor": 1, 
    "cells": [
        {
            "source": "# Data Section", 
            "cell_type": "markdown", 
            "metadata": {
                "collapsed": true
            }
        }, 
        {
            "source": "### The data which will be used for the project is from the page https://en.wikipedia.org/wiki/Postcodes_in_Australia\n### It contains two tables;\n    1. A table that contains the state/territories along with their abbreviations\n    2. A table containing the postcodes along with locality and state/territory abbreviations\nBoth tables will be joined using the common column i.e. abbreviations so that it will be easier for the user to understand which state/territory the locality belongs to.", 
            "cell_type": "markdown", 
            "metadata": {}
        }, 
        {
            "source": "### This section will contain the following parts;\n    1. Extracting the tables from the wikipedia page\n    2. Cleaning of extracted data\n    3. Converting the data into dataframes\n    4. Combining dataframes to get a final dataframe\n    5. Using the geocoders package to get the latitude and longitude for each locality\n    6. Adding the coordinates to the dataframe", 
            "cell_type": "markdown", 
            "metadata": {}
        }, 
        {
            "source": "#### First 3 steps will be combined together", 
            "cell_type": "markdown", 
            "metadata": {}
        }, 
        {
            "source": "### 1 2 and 3. Extracting, Cleaning and Converting data from Wikipedia page", 
            "cell_type": "markdown", 
            "metadata": {}
        }, 
        {
            "execution_count": 2, 
            "cell_type": "code", 
            "metadata": {}, 
            "outputs": [], 
            "source": "#getting the wikipedia page\nimport requests\nurl = requests.get('https://en.wikipedia.org/wiki/Postcodes_in_Australia').text\n\n#Using beautiful soup to convert url to xml\nfrom bs4 import BeautifulSoup\nsoup = BeautifulSoup(url,\"lxml\")"
        }, 
        {
            "execution_count": 3, 
            "cell_type": "code", 
            "metadata": {}, 
            "outputs": [], 
            "source": "#exract the table from the wikipedia page\ntable = soup.findAll('table',{'class':'wikitable'})"
        }, 
        {
            "execution_count": 4, 
            "cell_type": "code", 
            "metadata": {}, 
            "outputs": [
                {
                    "output_type": "stream", 
                    "name": "stdout", 
                    "text": "<table class=\"wikitable\">\n<tbody><tr>\n<th>State/Territory</th>\n<th>Abbreviation</th>\n<th>Postcode range\n</th></tr>\n<tr>\n<td><a href=\"/wiki/New_South_Wales\" title=\"New South Wales\">New South Wales</a></td>\n<td>NSW</td>\n<td>1000\u20141999 <i>(LVRs and PO Boxes only)</i><br/>2000\u20142599<br/>2619\u20142899<br/>2921\u20142999\n</td></tr>\n<tr>\n<td><a href=\"/wiki/Australian_Capital_Territory\" title=\"Australian Capital Territory\">Australian Capital Territory</a>\n</td>\n<td>ACT</td>\n<td>0200\u20140299 <i>(LVRs and PO Boxes only)</i><br/>2600\u20142618<br/>2900\u20142920\n</td></tr>\n<tr>\n<td><a href=\"/wiki/Victoria_(Australia)\" title=\"Victoria (Australia)\">Victoria</a>\n</td>\n<td>VIC</td>\n<td>3000\u20143999<br/>8000\u20148999 <i>(LVRs and PO Boxes only)</i>\n</td></tr>\n<tr>\n<td><a href=\"/wiki/Queensland\" title=\"Queensland\">Queensland</a></td>\n<td>QLD</td>\n<td>4000\u20144999<br/>9000\u20149999 <i>(LVRs and PO Boxes only)</i>\n</td></tr>\n<tr>\n<td><a href=\"/wiki/South_Australia\" title=\"South Australia\">South Australia</a></td>\n<td>SA</td>\n<td>5000\u20145799<br/>5800\u20145999 <i>(LVRs and PO Boxes only)</i>\n</td></tr>\n<tr>\n<td><a href=\"/wiki/Western_Australia\" title=\"Western Australia\">Western Australia</a></td>\n<td>WA</td>\n<td>6000\u20146797<br/>6800\u20146999 <i>(LVRs and PO Boxes only)</i>\n</td></tr>\n<tr>\n<td><a href=\"/wiki/Tasmania\" title=\"Tasmania\">Tasmania</a></td>\n<td>TAS</td>\n<td>7000\u20147799<br/>7800\u20147999 <i>(LVRs and PO Boxes only)</i>\n</td></tr>\n<tr>\n<td><a href=\"/wiki/Northern_Territory\" title=\"Northern Territory\">Northern Territory</a></td>\n<td>NT</td>\n<td>0800\u20140899<br/>0900\u20140999 <i>(LVRs and PO Boxes only)</i>\n</td></tr></tbody></table>\n"
                }
            ], 
            "source": "#Table one: contains abbreviations along with their expanded forms\nprint(table[0])"
        }, 
        {
            "execution_count": 5, 
            "cell_type": "code", 
            "metadata": {}, 
            "outputs": [], 
            "source": "#extract the contents of the table one\ntable1 = table[0].find_all('td')"
        }, 
        {
            "execution_count": 6, 
            "cell_type": "code", 
            "metadata": {}, 
            "outputs": [
                {
                    "execution_count": 6, 
                    "metadata": {}, 
                    "data": {
                        "text/html": "<div>\n<style scoped>\n    .dataframe tbody tr th:only-of-type {\n        vertical-align: middle;\n    }\n\n    .dataframe tbody tr th {\n        vertical-align: top;\n    }\n\n    .dataframe thead th {\n        text-align: right;\n    }\n</style>\n<table border=\"1\" class=\"dataframe\">\n  <thead>\n    <tr style=\"text-align: right;\">\n      <th></th>\n      <th>State/Territory</th>\n      <th>Abbreviation</th>\n    </tr>\n  </thead>\n  <tbody>\n  </tbody>\n</table>\n</div>", 
                        "text/plain": "Empty DataFrame\nColumns: [State/Territory, Abbreviation]\nIndex: []"
                    }, 
                    "output_type": "execute_result"
                }
            ], 
            "source": "# creating empty dataframe\nimport pandas as pd\ncolumn_name = ['State/Territory','Abbreviation']\ndf = pd.DataFrame(columns=column_name)\ndf"
        }, 
        {
            "execution_count": 7, 
            "cell_type": "code", 
            "metadata": {}, 
            "outputs": [], 
            "source": "#populating the first dataframe\nimport re\ni = 0\nwhile i < len(table1):\n    st = re.findall(r'<td>(.*?)</td>',str(table1[i]))\n    if len(st) == 0:\n        st = re.findall(r'<td>(.*?\\n)</td>',str(table1[i])) \n    if '<a href'in st[0]:\n        st1 = re.findall(r'>(.*?)</a>',st[0])\n        if len(st1) == 0:\n            st1 = re.findall(r'>(.*?\\n)</a>',st[0])\n        st2 = st1[0]\n    else:\n        st2 = st[0]\n    \n    abb = re.findall(r'<td>(.*?)</td>',str(table1[i+1]))\n    a = abb[0]\n    \n    row = [st2,a]\n    df.loc[len(df)] = row\n    i+=3"
        }, 
        {
            "execution_count": 8, 
            "cell_type": "code", 
            "metadata": {}, 
            "outputs": [
                {
                    "execution_count": 8, 
                    "metadata": {}, 
                    "data": {
                        "text/html": "<div>\n<style scoped>\n    .dataframe tbody tr th:only-of-type {\n        vertical-align: middle;\n    }\n\n    .dataframe tbody tr th {\n        vertical-align: top;\n    }\n\n    .dataframe thead th {\n        text-align: right;\n    }\n</style>\n<table border=\"1\" class=\"dataframe\">\n  <thead>\n    <tr style=\"text-align: right;\">\n      <th></th>\n      <th>State/Territory</th>\n      <th>Abbreviation</th>\n    </tr>\n  </thead>\n  <tbody>\n    <tr>\n      <th>0</th>\n      <td>New South Wales</td>\n      <td>NSW</td>\n    </tr>\n    <tr>\n      <th>1</th>\n      <td>Australian Capital Territory</td>\n      <td>ACT</td>\n    </tr>\n    <tr>\n      <th>2</th>\n      <td>Victoria</td>\n      <td>VIC</td>\n    </tr>\n    <tr>\n      <th>3</th>\n      <td>Queensland</td>\n      <td>QLD</td>\n    </tr>\n    <tr>\n      <th>4</th>\n      <td>South Australia</td>\n      <td>SA</td>\n    </tr>\n    <tr>\n      <th>5</th>\n      <td>Western Australia</td>\n      <td>WA</td>\n    </tr>\n    <tr>\n      <th>6</th>\n      <td>Tasmania</td>\n      <td>TAS</td>\n    </tr>\n    <tr>\n      <th>7</th>\n      <td>Northern Territory</td>\n      <td>NT</td>\n    </tr>\n  </tbody>\n</table>\n</div>", 
                        "text/plain": "                State/Territory Abbreviation\n0               New South Wales          NSW\n1  Australian Capital Territory          ACT\n2                      Victoria          VIC\n3                    Queensland          QLD\n4               South Australia           SA\n5             Western Australia           WA\n6                      Tasmania          TAS\n7            Northern Territory           NT"
                    }, 
                    "output_type": "execute_result"
                }
            ], 
            "source": "#Checking the dataframe\ndf"
        }, 
        {
            "execution_count": 9, 
            "cell_type": "code", 
            "metadata": {}, 
            "outputs": [
                {
                    "output_type": "stream", 
                    "name": "stdout", 
                    "text": "<table class=\"wikitable\">\n<tbody><tr>\n<th>Postcode</th>\n<th>Locality</th>\n<th>State derived from<br/>Postcode ranges</th>\n<th>Actual State<br/>for this locality\n</th></tr>\n<tr>\n<td>4825</td>\n<td>ALPURRURULAM</td>\n<td>QLD</td>\n<td>NT\n</td></tr>\n<tr>\n<td>0872</td>\n<td>ERNABELLA</td>\n<td>NT</td>\n<td>SA\n</td></tr>\n<tr>\n<td>0872</td>\n<td>FREGON</td>\n<td>NT</td>\n<td>SA\n</td></tr>\n<tr>\n<td>0872</td>\n<td>INDULKANA</td>\n<td>NT</td>\n<td>SA\n</td></tr>\n<tr>\n<td>0872</td>\n<td>MIMILI</td>\n<td>NT</td>\n<td>SA\n</td></tr>\n<tr>\n<td>0872</td>\n<td>NGAANYATJARRA-GILES</td>\n<td>NT</td>\n<td>WA\n</td></tr>\n<tr>\n<td>0872</td>\n<td>GIBSON DESERT NORTH</td>\n<td>NT</td>\n<td>WA\n</td></tr>\n<tr>\n<td>0872</td>\n<td>GIBSON DESERT SOUTH</td>\n<td>NT</td>\n<td>WA\n</td></tr>\n<tr>\n<td>2406</td>\n<td>MUNGINDI</td>\n<td>NSW</td>\n<td>QLD\n</td></tr>\n<tr>\n<td>2540</td>\n<td>HMAS CRESWELL</td>\n<td>NSW</td>\n<td><a href=\"/wiki/Jervis_Bay_Territory\" title=\"Jervis Bay Territory\">Jervis Bay Territory</a>\n</td></tr>\n<tr>\n<td>2540</td>\n<td>JERVIS BAY</td>\n<td>NSW</td>\n<td><a href=\"/wiki/Jervis_Bay_Territory\" title=\"Jervis Bay Territory\">Jervis Bay Territory</a>\n</td></tr>\n<tr>\n<td>2611</td>\n<td>COOLEMAN</td>\n<td>ACT</td>\n<td>NSW\n</td></tr>\n<tr>\n<td>2611</td>\n<td>BIMBERI</td>\n<td>ACT</td>\n<td>NSW\n</td></tr>\n<tr>\n<td>2611</td>\n<td>BRINDABELLA</td>\n<td>ACT</td>\n<td>NSW\n</td></tr>\n<tr>\n<td>2611</td>\n<td>URIARRA</td>\n<td>ACT</td>\n<td>NSW\n</td></tr>\n<tr>\n<td>2620</td>\n<td>HUME</td>\n<td>NSW</td>\n<td>ACT\n</td></tr>\n<tr>\n<td>2620</td>\n<td>KOWEN FOREST</td>\n<td>NSW</td>\n<td>ACT\n</td></tr>\n<tr>\n<td>2620</td>\n<td>OAKS ESTATE</td>\n<td>NSW</td>\n<td>ACT\n</td></tr>\n<tr>\n<td>2620</td>\n<td>THARWA</td>\n<td>NSW</td>\n<td>ACT\n</td></tr>\n<tr>\n<td>2620</td>\n<td>TOP NAAS</td>\n<td>NSW</td>\n<td>ACT\n</td></tr>\n<tr>\n<td>3500</td>\n<td>PARINGI</td>\n<td>VIC</td>\n<td>NSW\n</td></tr>\n<tr>\n<td>3585</td>\n<td>MURRAY DOWNS</td>\n<td>VIC</td>\n<td>NSW\n</td></tr>\n<tr>\n<td>3586</td>\n<td>MALLAN</td>\n<td>VIC</td>\n<td>NSW\n</td></tr>\n<tr>\n<td>3644</td>\n<td>BAROOGA</td>\n<td>VIC</td>\n<td>NSW\n</td></tr>\n<tr>\n<td>3644</td>\n<td>LALALTY</td>\n<td>VIC</td>\n<td>NSW\n</td></tr>\n<tr>\n<td>3691</td>\n<td>LAKE HUME VILLAGE</td>\n<td>VIC</td>\n<td>NSW\n</td></tr>\n<tr>\n<td>3707</td>\n<td>BRINGENBRONG</td>\n<td>VIC</td>\n<td>NSW\n</td></tr>\n<tr>\n<td>4380</td>\n<td>MINGOOLA</td>\n<td>QLD</td>\n<td>NSW\n</td></tr>\n<tr>\n<td>4377</td>\n<td>MARYLAND</td>\n<td>QLD</td>\n<td>NSW\n</td></tr></tbody></table>\n"
                }
            ], 
            "source": "#Table two: contains postcode, locality and abbreviations\nprint(table[1])"
        }, 
        {
            "execution_count": 10, 
            "cell_type": "code", 
            "metadata": {}, 
            "outputs": [], 
            "source": "#extract the contents of the table two\ntable2 = table[1].find_all('td')"
        }, 
        {
            "execution_count": 11, 
            "cell_type": "code", 
            "metadata": {}, 
            "outputs": [
                {
                    "execution_count": 11, 
                    "metadata": {}, 
                    "data": {
                        "text/html": "<div>\n<style scoped>\n    .dataframe tbody tr th:only-of-type {\n        vertical-align: middle;\n    }\n\n    .dataframe tbody tr th {\n        vertical-align: top;\n    }\n\n    .dataframe thead th {\n        text-align: right;\n    }\n</style>\n<table border=\"1\" class=\"dataframe\">\n  <thead>\n    <tr style=\"text-align: right;\">\n      <th></th>\n      <th>PostCode</th>\n      <th>Locality</th>\n      <th>Abbreviation</th>\n    </tr>\n  </thead>\n  <tbody>\n  </tbody>\n</table>\n</div>", 
                        "text/plain": "Empty DataFrame\nColumns: [PostCode, Locality, Abbreviation]\nIndex: []"
                    }, 
                    "output_type": "execute_result"
                }
            ], 
            "source": "# creating empty dataframe\ncolumn_names = ['PostCode','Locality','Abbreviation']\ndf1 = pd.DataFrame(columns=column_names)\ndf1"
        }, 
        {
            "execution_count": 12, 
            "cell_type": "code", 
            "metadata": {}, 
            "outputs": [], 
            "source": "#populating the second dataframe\ni = 0\nwhile i < len(table2):\n    postcode = re.findall(r'<td>(.*?)</td>',str(table2[i]))\n    pc = postcode[0]\n    locality = re.findall(r'<td>(.*?)</td>',str(table2[i+1]))\n    l = locality[0]\n    abbrev = re.findall(r'<td>(.*?)</td>',str(table2[i+2]))\n    abb = abbrev[0]\n    \n    row = [pc,l,abb]\n    df1.loc[len(df1)] = row\n    i+=4"
        }, 
        {
            "execution_count": 13, 
            "cell_type": "code", 
            "metadata": {}, 
            "outputs": [
                {
                    "execution_count": 13, 
                    "metadata": {}, 
                    "data": {
                        "text/html": "<div>\n<style scoped>\n    .dataframe tbody tr th:only-of-type {\n        vertical-align: middle;\n    }\n\n    .dataframe tbody tr th {\n        vertical-align: top;\n    }\n\n    .dataframe thead th {\n        text-align: right;\n    }\n</style>\n<table border=\"1\" class=\"dataframe\">\n  <thead>\n    <tr style=\"text-align: right;\">\n      <th></th>\n      <th>PostCode</th>\n      <th>Locality</th>\n      <th>Abbreviation</th>\n    </tr>\n  </thead>\n  <tbody>\n    <tr>\n      <th>0</th>\n      <td>4825</td>\n      <td>ALPURRURULAM</td>\n      <td>QLD</td>\n    </tr>\n    <tr>\n      <th>1</th>\n      <td>0872</td>\n      <td>ERNABELLA</td>\n      <td>NT</td>\n    </tr>\n    <tr>\n      <th>2</th>\n      <td>0872</td>\n      <td>FREGON</td>\n      <td>NT</td>\n    </tr>\n    <tr>\n      <th>3</th>\n      <td>0872</td>\n      <td>INDULKANA</td>\n      <td>NT</td>\n    </tr>\n    <tr>\n      <th>4</th>\n      <td>0872</td>\n      <td>MIMILI</td>\n      <td>NT</td>\n    </tr>\n    <tr>\n      <th>5</th>\n      <td>0872</td>\n      <td>NGAANYATJARRA-GILES</td>\n      <td>NT</td>\n    </tr>\n    <tr>\n      <th>6</th>\n      <td>0872</td>\n      <td>GIBSON DESERT NORTH</td>\n      <td>NT</td>\n    </tr>\n    <tr>\n      <th>7</th>\n      <td>0872</td>\n      <td>GIBSON DESERT SOUTH</td>\n      <td>NT</td>\n    </tr>\n    <tr>\n      <th>8</th>\n      <td>2406</td>\n      <td>MUNGINDI</td>\n      <td>NSW</td>\n    </tr>\n    <tr>\n      <th>9</th>\n      <td>2540</td>\n      <td>HMAS CRESWELL</td>\n      <td>NSW</td>\n    </tr>\n    <tr>\n      <th>10</th>\n      <td>2540</td>\n      <td>JERVIS BAY</td>\n      <td>NSW</td>\n    </tr>\n    <tr>\n      <th>11</th>\n      <td>2611</td>\n      <td>COOLEMAN</td>\n      <td>ACT</td>\n    </tr>\n    <tr>\n      <th>12</th>\n      <td>2611</td>\n      <td>BIMBERI</td>\n      <td>ACT</td>\n    </tr>\n    <tr>\n      <th>13</th>\n      <td>2611</td>\n      <td>BRINDABELLA</td>\n      <td>ACT</td>\n    </tr>\n    <tr>\n      <th>14</th>\n      <td>2611</td>\n      <td>URIARRA</td>\n      <td>ACT</td>\n    </tr>\n    <tr>\n      <th>15</th>\n      <td>2620</td>\n      <td>HUME</td>\n      <td>NSW</td>\n    </tr>\n    <tr>\n      <th>16</th>\n      <td>2620</td>\n      <td>KOWEN FOREST</td>\n      <td>NSW</td>\n    </tr>\n    <tr>\n      <th>17</th>\n      <td>2620</td>\n      <td>OAKS ESTATE</td>\n      <td>NSW</td>\n    </tr>\n    <tr>\n      <th>18</th>\n      <td>2620</td>\n      <td>THARWA</td>\n      <td>NSW</td>\n    </tr>\n    <tr>\n      <th>19</th>\n      <td>2620</td>\n      <td>TOP NAAS</td>\n      <td>NSW</td>\n    </tr>\n    <tr>\n      <th>20</th>\n      <td>3500</td>\n      <td>PARINGI</td>\n      <td>VIC</td>\n    </tr>\n    <tr>\n      <th>21</th>\n      <td>3585</td>\n      <td>MURRAY DOWNS</td>\n      <td>VIC</td>\n    </tr>\n    <tr>\n      <th>22</th>\n      <td>3586</td>\n      <td>MALLAN</td>\n      <td>VIC</td>\n    </tr>\n    <tr>\n      <th>23</th>\n      <td>3644</td>\n      <td>BAROOGA</td>\n      <td>VIC</td>\n    </tr>\n    <tr>\n      <th>24</th>\n      <td>3644</td>\n      <td>LALALTY</td>\n      <td>VIC</td>\n    </tr>\n    <tr>\n      <th>25</th>\n      <td>3691</td>\n      <td>LAKE HUME VILLAGE</td>\n      <td>VIC</td>\n    </tr>\n    <tr>\n      <th>26</th>\n      <td>3707</td>\n      <td>BRINGENBRONG</td>\n      <td>VIC</td>\n    </tr>\n    <tr>\n      <th>27</th>\n      <td>4380</td>\n      <td>MINGOOLA</td>\n      <td>QLD</td>\n    </tr>\n    <tr>\n      <th>28</th>\n      <td>4377</td>\n      <td>MARYLAND</td>\n      <td>QLD</td>\n    </tr>\n  </tbody>\n</table>\n</div>", 
                        "text/plain": "   PostCode             Locality Abbreviation\n0      4825         ALPURRURULAM          QLD\n1      0872            ERNABELLA           NT\n2      0872               FREGON           NT\n3      0872            INDULKANA           NT\n4      0872               MIMILI           NT\n5      0872  NGAANYATJARRA-GILES           NT\n6      0872  GIBSON DESERT NORTH           NT\n7      0872  GIBSON DESERT SOUTH           NT\n8      2406             MUNGINDI          NSW\n9      2540        HMAS CRESWELL          NSW\n10     2540           JERVIS BAY          NSW\n11     2611             COOLEMAN          ACT\n12     2611              BIMBERI          ACT\n13     2611          BRINDABELLA          ACT\n14     2611              URIARRA          ACT\n15     2620                 HUME          NSW\n16     2620         KOWEN FOREST          NSW\n17     2620          OAKS ESTATE          NSW\n18     2620               THARWA          NSW\n19     2620             TOP NAAS          NSW\n20     3500              PARINGI          VIC\n21     3585         MURRAY DOWNS          VIC\n22     3586               MALLAN          VIC\n23     3644              BAROOGA          VIC\n24     3644              LALALTY          VIC\n25     3691    LAKE HUME VILLAGE          VIC\n26     3707         BRINGENBRONG          VIC\n27     4380             MINGOOLA          QLD\n28     4377             MARYLAND          QLD"
                    }, 
                    "output_type": "execute_result"
                }
            ], 
            "source": "#Checking the dataframe\ndf1"
        }, 
        {
            "source": "#### Note: for the second table we have ignored the fourth column which also contains abbreviations to avoid any confusion and also because the rows containing 'Jervis Bay Territory' will get lost when the dataframes are merged as it is not present in the first dataframe and we do not want to lose any data. \n#### So we have decided to go for the 3rd column only, so that all the rows are present and no data is lost", 
            "cell_type": "markdown", 
            "metadata": {}
        }, 
        {
            "source": "### 4. Combining dataframes into a final dataframe", 
            "cell_type": "markdown", 
            "metadata": {}
        }, 
        {
            "execution_count": 15, 
            "cell_type": "code", 
            "metadata": {}, 
            "outputs": [
                {
                    "execution_count": 15, 
                    "metadata": {}, 
                    "data": {
                        "text/html": "<div>\n<style scoped>\n    .dataframe tbody tr th:only-of-type {\n        vertical-align: middle;\n    }\n\n    .dataframe tbody tr th {\n        vertical-align: top;\n    }\n\n    .dataframe thead th {\n        text-align: right;\n    }\n</style>\n<table border=\"1\" class=\"dataframe\">\n  <thead>\n    <tr style=\"text-align: right;\">\n      <th></th>\n      <th>State/Territory</th>\n      <th>PostCode</th>\n      <th>Locality</th>\n    </tr>\n  </thead>\n  <tbody>\n    <tr>\n      <th>0</th>\n      <td>New South Wales</td>\n      <td>2406</td>\n      <td>MUNGINDI</td>\n    </tr>\n    <tr>\n      <th>1</th>\n      <td>New South Wales</td>\n      <td>2540</td>\n      <td>HMAS CRESWELL</td>\n    </tr>\n    <tr>\n      <th>2</th>\n      <td>New South Wales</td>\n      <td>2540</td>\n      <td>JERVIS BAY</td>\n    </tr>\n    <tr>\n      <th>3</th>\n      <td>New South Wales</td>\n      <td>2620</td>\n      <td>HUME</td>\n    </tr>\n    <tr>\n      <th>4</th>\n      <td>New South Wales</td>\n      <td>2620</td>\n      <td>KOWEN FOREST</td>\n    </tr>\n  </tbody>\n</table>\n</div>", 
                        "text/plain": "   State/Territory PostCode       Locality\n0  New South Wales     2406       MUNGINDI\n1  New South Wales     2540  HMAS CRESWELL\n2  New South Wales     2540     JERVIS BAY\n3  New South Wales     2620           HUME\n4  New South Wales     2620   KOWEN FOREST"
                    }, 
                    "output_type": "execute_result"
                }
            ], 
            "source": "final_df = pd.merge(df,df1,on=\"Abbreviation\")\ndel final_df['Abbreviation']\nfinal_df.head()"
        }, 
        {
            "execution_count": 16, 
            "cell_type": "code", 
            "metadata": {}, 
            "outputs": [
                {
                    "execution_count": 16, 
                    "metadata": {}, 
                    "data": {
                        "text/html": "<div>\n<style scoped>\n    .dataframe tbody tr th:only-of-type {\n        vertical-align: middle;\n    }\n\n    .dataframe tbody tr th {\n        vertical-align: top;\n    }\n\n    .dataframe thead th {\n        text-align: right;\n    }\n</style>\n<table border=\"1\" class=\"dataframe\">\n  <thead>\n    <tr style=\"text-align: right;\">\n      <th></th>\n      <th>PostCode</th>\n      <th>State/Territory</th>\n      <th>Locality</th>\n    </tr>\n  </thead>\n  <tbody>\n    <tr>\n      <th>0</th>\n      <td>0872</td>\n      <td>Northern Territory</td>\n      <td>ERNABELLA, FREGON, INDULKANA, MIMILI, NGAANYAT...</td>\n    </tr>\n    <tr>\n      <th>1</th>\n      <td>2406</td>\n      <td>New South Wales</td>\n      <td>MUNGINDI</td>\n    </tr>\n    <tr>\n      <th>2</th>\n      <td>2540</td>\n      <td>New South Wales</td>\n      <td>HMAS CRESWELL, JERVIS BAY</td>\n    </tr>\n    <tr>\n      <th>3</th>\n      <td>2611</td>\n      <td>Australian Capital Territory</td>\n      <td>COOLEMAN, BIMBERI, BRINDABELLA, URIARRA</td>\n    </tr>\n    <tr>\n      <th>4</th>\n      <td>2620</td>\n      <td>New South Wales</td>\n      <td>HUME, KOWEN FOREST, OAKS ESTATE, THARWA, TOP NAAS</td>\n    </tr>\n    <tr>\n      <th>5</th>\n      <td>3500</td>\n      <td>Victoria</td>\n      <td>PARINGI</td>\n    </tr>\n    <tr>\n      <th>6</th>\n      <td>3585</td>\n      <td>Victoria</td>\n      <td>MURRAY DOWNS</td>\n    </tr>\n    <tr>\n      <th>7</th>\n      <td>3586</td>\n      <td>Victoria</td>\n      <td>MALLAN</td>\n    </tr>\n    <tr>\n      <th>8</th>\n      <td>3644</td>\n      <td>Victoria</td>\n      <td>BAROOGA, LALALTY</td>\n    </tr>\n    <tr>\n      <th>9</th>\n      <td>3691</td>\n      <td>Victoria</td>\n      <td>LAKE HUME VILLAGE</td>\n    </tr>\n    <tr>\n      <th>10</th>\n      <td>3707</td>\n      <td>Victoria</td>\n      <td>BRINGENBRONG</td>\n    </tr>\n    <tr>\n      <th>11</th>\n      <td>4377</td>\n      <td>Queensland</td>\n      <td>MARYLAND</td>\n    </tr>\n    <tr>\n      <th>12</th>\n      <td>4380</td>\n      <td>Queensland</td>\n      <td>MINGOOLA</td>\n    </tr>\n    <tr>\n      <th>13</th>\n      <td>4825</td>\n      <td>Queensland</td>\n      <td>ALPURRURULAM</td>\n    </tr>\n  </tbody>\n</table>\n</div>", 
                        "text/plain": "   PostCode               State/Territory  \\\n0      0872            Northern Territory   \n1      2406               New South Wales   \n2      2540               New South Wales   \n3      2611  Australian Capital Territory   \n4      2620               New South Wales   \n5      3500                      Victoria   \n6      3585                      Victoria   \n7      3586                      Victoria   \n8      3644                      Victoria   \n9      3691                      Victoria   \n10     3707                      Victoria   \n11     4377                    Queensland   \n12     4380                    Queensland   \n13     4825                    Queensland   \n\n                                             Locality  \n0   ERNABELLA, FREGON, INDULKANA, MIMILI, NGAANYAT...  \n1                                            MUNGINDI  \n2                           HMAS CRESWELL, JERVIS BAY  \n3             COOLEMAN, BIMBERI, BRINDABELLA, URIARRA  \n4   HUME, KOWEN FOREST, OAKS ESTATE, THARWA, TOP NAAS  \n5                                             PARINGI  \n6                                        MURRAY DOWNS  \n7                                              MALLAN  \n8                                    BAROOGA, LALALTY  \n9                                   LAKE HUME VILLAGE  \n10                                       BRINGENBRONG  \n11                                           MARYLAND  \n12                                           MINGOOLA  \n13                                       ALPURRURULAM  "
                    }, 
                    "output_type": "execute_result"
                }
            ], 
            "source": "# Grouping the Neighborhoods according to Postal Code\nfinal_df = final_df.groupby(['PostCode','State/Territory'])['Locality'].apply(', '.join).reset_index()\nfinal_df"
        }, 
        {
            "source": "### Part 5 Using geocoders package to get latitude and longtitude of each postcode", 
            "cell_type": "markdown", 
            "metadata": {}
        }, 
        {
            "execution_count": 17, 
            "cell_type": "code", 
            "metadata": {}, 
            "outputs": [
                {
                    "output_type": "stream", 
                    "name": "stdout", 
                    "text": "Solving environment: done\n\n## Package Plan ##\n\n  environment location: /opt/ibm/conda/miniconda3\n\n  added / updated specs: \n    - geopy\n\n\nThe following packages will be downloaded:\n\n    package                    |            build\n    ---------------------------|-----------------\n    geopy-1.17.0               |             py_0          49 KB  conda-forge\n    geographiclib-1.49         |             py_0          32 KB  conda-forge\n    ca-certificates-2018.8.24  |       ha4d7672_0         136 KB  conda-forge\n    conda-4.5.11               |           py35_0         636 KB  conda-forge\n    certifi-2018.8.24          |        py35_1001         139 KB  conda-forge\n    openssl-1.0.2p             |       h470a237_0         3.5 MB  conda-forge\n    ------------------------------------------------------------\n                                           Total:         4.5 MB\n\nThe following NEW packages will be INSTALLED:\n\n    geographiclib:   1.49-py_0             conda-forge\n    geopy:           1.17.0-py_0           conda-forge\n\nThe following packages will be UPDATED:\n\n    ca-certificates: 2017.08.26-h1d4fec5_0             --> 2018.8.24-ha4d7672_0 conda-forge\n    certifi:         2018.1.18-py35_0                  --> 2018.8.24-py35_1001  conda-forge\n    conda:           4.5.11-py35_0                     --> 4.5.11-py35_0        conda-forge\n    openssl:         1.0.2o-h20670df_0                 --> 1.0.2p-h470a237_0    conda-forge\n\n\nDownloading and Extracting Packages\ngeopy-1.17.0         | 49 KB     | ##################################### | 100% \ngeographiclib-1.49   | 32 KB     | ##################################### | 100% \nca-certificates-2018 | 136 KB    | ##################################### | 100% \nconda-4.5.11         | 636 KB    | ##################################### | 100% \ncertifi-2018.8.24    | 139 KB    | ##################################### | 100% \nopenssl-1.0.2p       | 3.5 MB    | ##################################### | 100% \nPreparing transaction: done\nVerifying transaction: done\nExecuting transaction: done\nLibrary imported.\n"
                }
            ], 
            "source": "#Importing necessary packages\n!conda install -c conda-forge geopy --yes # uncomment this line if you haven't completed the Foursquare API lab\nimport geopy.geocoders \n\nprint('Library imported.')"
        }, 
        {
            "execution_count": 18, 
            "cell_type": "code", 
            "metadata": {}, 
            "outputs": [
                {
                    "output_type": "stream", 
                    "name": "stderr", 
                    "text": "/opt/ibm/conda/miniconda3/lib/python3.5/site-packages/geopy/geocoders/osm.py:143: UserWarning: Using Nominatim with the default \"geopy/1.17.0\" `user_agent` is strongly discouraged, as it violates Nominatim's ToS https://operations.osmfoundation.org/policies/nominatim/ and may possibly cause 403 and 429 HTTP errors. Please specify a custom `user_agent` with `Nominatim(user_agent=\"my-application\")` or by overriding the default `user_agent`: `geopy.geocoders.options.default_user_agent = \"my-application\"`. In geopy 2.0 this will become an exception.\n  UserWarning\n"
                }
            ], 
            "source": "#Calculating latitude and longitude of each row\nfrom geopy.geocoders import Nominatim\ngeolocator = Nominatim()\nplace = 'Australia'\nlatitude = []\nlongitude = []\nfor index, rows in final_df.iterrows():\n    pc = str(rows['PostCode'])\n    addr = pc+','+place\n    location = geolocator.geocode(addr)\n    lat = location.latitude\n    long = location.longitude\n    latitude.append(lat)\n    longitude.append(long)"
        }, 
        {
            "source": "### 6. Adding coordinates to the dataframe", 
            "cell_type": "markdown", 
            "metadata": {}
        }, 
        {
            "execution_count": 19, 
            "cell_type": "code", 
            "metadata": {}, 
            "outputs": [], 
            "source": "#assigning the latitude and longitude to the dataframe\nfinal_df['Latitude'] = latitude\nfinal_df['Longitude'] = longitude"
        }, 
        {
            "execution_count": 20, 
            "cell_type": "code", 
            "metadata": {}, 
            "outputs": [
                {
                    "execution_count": 20, 
                    "metadata": {}, 
                    "data": {
                        "text/html": "<div>\n<style scoped>\n    .dataframe tbody tr th:only-of-type {\n        vertical-align: middle;\n    }\n\n    .dataframe tbody tr th {\n        vertical-align: top;\n    }\n\n    .dataframe thead th {\n        text-align: right;\n    }\n</style>\n<table border=\"1\" class=\"dataframe\">\n  <thead>\n    <tr style=\"text-align: right;\">\n      <th></th>\n      <th>PostCode</th>\n      <th>State/Territory</th>\n      <th>Locality</th>\n      <th>Latitude</th>\n      <th>Longitude</th>\n    </tr>\n  </thead>\n  <tbody>\n    <tr>\n      <th>0</th>\n      <td>0872</td>\n      <td>Northern Territory</td>\n      <td>ERNABELLA, FREGON, INDULKANA, MIMILI, NGAANYAT...</td>\n      <td>-25.719898</td>\n      <td>131.957835</td>\n    </tr>\n    <tr>\n      <th>1</th>\n      <td>2406</td>\n      <td>New South Wales</td>\n      <td>MUNGINDI</td>\n      <td>-29.030752</td>\n      <td>149.188191</td>\n    </tr>\n    <tr>\n      <th>2</th>\n      <td>2540</td>\n      <td>New South Wales</td>\n      <td>HMAS CRESWELL, JERVIS BAY</td>\n      <td>-34.983059</td>\n      <td>150.603134</td>\n    </tr>\n    <tr>\n      <th>3</th>\n      <td>2611</td>\n      <td>Australian Capital Territory</td>\n      <td>COOLEMAN, BIMBERI, BRINDABELLA, URIARRA</td>\n      <td>-35.316175</td>\n      <td>149.010503</td>\n    </tr>\n    <tr>\n      <th>4</th>\n      <td>2620</td>\n      <td>New South Wales</td>\n      <td>HUME, KOWEN FOREST, OAKS ESTATE, THARWA, TOP NAAS</td>\n      <td>-35.277574</td>\n      <td>149.236242</td>\n    </tr>\n    <tr>\n      <th>5</th>\n      <td>3500</td>\n      <td>Victoria</td>\n      <td>PARINGI</td>\n      <td>-34.196090</td>\n      <td>142.142540</td>\n    </tr>\n    <tr>\n      <th>6</th>\n      <td>3585</td>\n      <td>Victoria</td>\n      <td>MURRAY DOWNS</td>\n      <td>-35.342298</td>\n      <td>143.558281</td>\n    </tr>\n    <tr>\n      <th>7</th>\n      <td>3586</td>\n      <td>Victoria</td>\n      <td>MALLAN</td>\n      <td>-35.402222</td>\n      <td>143.654334</td>\n    </tr>\n    <tr>\n      <th>8</th>\n      <td>3644</td>\n      <td>Victoria</td>\n      <td>BAROOGA, LALALTY</td>\n      <td>-35.911559</td>\n      <td>145.671953</td>\n    </tr>\n    <tr>\n      <th>9</th>\n      <td>3691</td>\n      <td>Victoria</td>\n      <td>LAKE HUME VILLAGE</td>\n      <td>-36.162044</td>\n      <td>146.961706</td>\n    </tr>\n    <tr>\n      <th>10</th>\n      <td>3707</td>\n      <td>Victoria</td>\n      <td>BRINGENBRONG</td>\n      <td>-36.176704</td>\n      <td>147.947410</td>\n    </tr>\n    <tr>\n      <th>11</th>\n      <td>4377</td>\n      <td>Queensland</td>\n      <td>MARYLAND</td>\n      <td>-28.561347</td>\n      <td>151.988089</td>\n    </tr>\n    <tr>\n      <th>12</th>\n      <td>4380</td>\n      <td>Queensland</td>\n      <td>MINGOOLA</td>\n      <td>-28.703805</td>\n      <td>151.911134</td>\n    </tr>\n    <tr>\n      <th>13</th>\n      <td>4825</td>\n      <td>Queensland</td>\n      <td>ALPURRURULAM</td>\n      <td>-20.723552</td>\n      <td>139.384069</td>\n    </tr>\n  </tbody>\n</table>\n</div>", 
                        "text/plain": "   PostCode               State/Territory  \\\n0      0872            Northern Territory   \n1      2406               New South Wales   \n2      2540               New South Wales   \n3      2611  Australian Capital Territory   \n4      2620               New South Wales   \n5      3500                      Victoria   \n6      3585                      Victoria   \n7      3586                      Victoria   \n8      3644                      Victoria   \n9      3691                      Victoria   \n10     3707                      Victoria   \n11     4377                    Queensland   \n12     4380                    Queensland   \n13     4825                    Queensland   \n\n                                             Locality   Latitude   Longitude  \n0   ERNABELLA, FREGON, INDULKANA, MIMILI, NGAANYAT... -25.719898  131.957835  \n1                                            MUNGINDI -29.030752  149.188191  \n2                           HMAS CRESWELL, JERVIS BAY -34.983059  150.603134  \n3             COOLEMAN, BIMBERI, BRINDABELLA, URIARRA -35.316175  149.010503  \n4   HUME, KOWEN FOREST, OAKS ESTATE, THARWA, TOP NAAS -35.277574  149.236242  \n5                                             PARINGI -34.196090  142.142540  \n6                                        MURRAY DOWNS -35.342298  143.558281  \n7                                              MALLAN -35.402222  143.654334  \n8                                    BAROOGA, LALALTY -35.911559  145.671953  \n9                                   LAKE HUME VILLAGE -36.162044  146.961706  \n10                                       BRINGENBRONG -36.176704  147.947410  \n11                                           MARYLAND -28.561347  151.988089  \n12                                           MINGOOLA -28.703805  151.911134  \n13                                       ALPURRURULAM -20.723552  139.384069  "
                    }, 
                    "output_type": "execute_result"
                }
            ], 
            "source": "#Final dataframe\nfinal_df"
        }, 
        {
            "source": "#### This will be the final dataset that we will use to analyse the neighborhoods", 
            "cell_type": "markdown", 
            "metadata": {}
        }, 
        {
            "execution_count": null, 
            "cell_type": "code", 
            "metadata": {}, 
            "outputs": [], 
            "source": ""
        }
    ], 
    "metadata": {
        "kernelspec": {
            "display_name": "Python 3.5 with Spark", 
            "name": "python3", 
            "language": "python3"
        }, 
        "language_info": {
            "mimetype": "text/x-python", 
            "nbconvert_exporter": "python", 
            "version": "3.5.4", 
            "name": "python", 
            "file_extension": ".py", 
            "pygments_lexer": "ipython3", 
            "codemirror_mode": {
                "version": 3, 
                "name": "ipython"
            }
        }
    }, 
    "nbformat": 4
}