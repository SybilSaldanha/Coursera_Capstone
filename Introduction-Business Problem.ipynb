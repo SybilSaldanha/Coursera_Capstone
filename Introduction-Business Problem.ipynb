{
    "nbformat_minor": 1, 
    "cells": [
        {
            "source": "# Introduction/Business Problem", 
            "cell_type": "markdown", 
            "metadata": {
                "collapsed": true
            }
        }, 
        {
            "source": "### The idea", 
            "cell_type": "markdown", 
            "metadata": {}
        }, 
        {
            "source": "The idea is to analyse neighborhoods of Austrailia and try to cluster related neighborhoods together.\nNeighborhoods belonging to the same cluster can be analysed using their most common venues in order to take important decisions such as;\nWhich neighborhood is better to open up a restaurant?\nWhich neighborhoods prefer cafe's and cinemas or even nightclubs?\n\nThis will help any business to decide where they want to set up shop as they will know which neighborhood will prefer their business.\nIt can also help to analyse if any particular type of business is not present in a given neighborhood like a neighborhood has only restaurants and cafes but no night clubs then somebody who owns a chain of nightclubs can set one up there.", 
            "cell_type": "markdown", 
            "metadata": {}
        }, 
        {
            "execution_count": null, 
            "cell_type": "code", 
            "metadata": {}, 
            "outputs": [], 
            "source": ""
        }
    ], 
    "metadata": {
        "kernelspec": {
            "display_name": "Python 3.5 with Spark", 
            "name": "python3", 
            "language": "python3"
        }, 
        "language_info": {
            "mimetype": "text/x-python", 
            "nbconvert_exporter": "python", 
            "version": "3.5.4", 
            "name": "python", 
            "file_extension": ".py", 
            "pygments_lexer": "ipython3", 
            "codemirror_mode": {
                "version": 3, 
                "name": "ipython"
            }
        }
    }, 
    "nbformat": 4
}